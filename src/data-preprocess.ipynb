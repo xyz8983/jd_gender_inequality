{
 "cells": [
  {
   "cell_type": "code",
   "execution_count": 1,
   "metadata": {},
   "outputs": [],
   "source": [
    "# todo:\n",
    "# merge 6 dfs into a single one and save it into pkl file, add platform as a new column to the df\n",
    "# go over 3 * 2 files to further clean necessary fields\n",
    "# go over 3 * 2 files to have a look at basic statistics\n",
    "# 4."
   ]
  },
  {
   "cell_type": "code",
   "execution_count": 131,
   "metadata": {},
   "outputs": [],
   "source": [
    "import os\n",
    "import json\n",
    "import pandas as pd\n",
    "import numpy as np\n",
    "import re\n",
    "import pickle"
   ]
  },
  {
   "cell_type": "markdown",
   "metadata": {},
   "source": [
    "#### liepin JD female first\n",
    "49 records from liepin for JD records containing \"female first\" keywords\n",
    "\n",
    "TODO:  \n",
    "1. company industry, reduce it to certain amount of words => split into list => done\n",
    "2. standadized salary units (now is 6-8k·12薪) => into monthly salary => done\n",
    "3. add \"liepin\" as the value for a new column \"platform\" => done\n",
    "4. company size contains \"人\", example : 500-999人 => standardize the bin =>done"
   ]
  },
  {
   "cell_type": "code",
   "execution_count": 76,
   "metadata": {},
   "outputs": [],
   "source": [
    "with open(os.path.dirname(os.path.abspath(\".\"))+'/jd_spider/jd_spider/spiders/output/liepin_jd_female.json', 'r') as f:\n",
    "    liepin_jd_female = json.load(f)\n",
    "df_liepin_jd_female = pd.DataFrame(liepin_jd_female)\n"
   ]
  },
  {
   "cell_type": "code",
   "execution_count": 5,
   "metadata": {
    "scrolled": true
   },
   "outputs": [],
   "source": [
    "def liepin_salary(s: str)->(float, float):\n",
    "    \"\"\"\n",
    "    s: string, salary from liepin, example: '30-35k·12薪', last 5 chars k·12薪 are not needed\n",
    "    return: (low_range, high_range) in thousand RMB\n",
    "    \"\"\" \n",
    "    \n",
    "    if s == '面议':\n",
    "        return None\n",
    "    else:\n",
    "        low, high = s[:-5].split('-') \n",
    "        return (float(low)*1000, float(high)*1000)"
   ]
  },
  {
   "cell_type": "code",
   "execution_count": 6,
   "metadata": {},
   "outputs": [],
   "source": [
    "df_liepin_jd_female[['salary_low', 'salary_high']] = (df_liepin_jd_female['salary_range']\n",
    "                                                        .str.slice(stop=-5)\n",
    "                                                        .str.split(\"-\", expand=True)\n",
    "                                                        .replace('', np.nan)\n",
    "                                                        .astype(float)\n",
    "                                                        .multiply(1000)\n",
    "                                                     )"
   ]
  },
  {
   "cell_type": "code",
   "execution_count": 9,
   "metadata": {},
   "outputs": [],
   "source": [
    "def liepin_company_size_clean(s):\n",
    "    \"\"\"\n",
    "    s: string, company size field value, clean to get result like \"5000-10000\"\n",
    "    return: tuple of integer (low, high), default is (0, 0) for missing value\n",
    "    \"\"\"\n",
    "    m = re.match(r\"(?P<size_low>\\d+)-(?P<size_high>\\d+)\", s)\n",
    "    if m and 'size_low' in m.groupdict() and 'size_high' in m.groupdict():\n",
    "        return (int(m.groupdict()['size_low']), int(m.groupdict()['size_high']))\n",
    "    # a tuple of None to enforce the to_list() later separate value into two columns\n",
    "    return (0, 0) \n",
    "    "
   ]
  },
  {
   "cell_type": "code",
   "execution_count": 28,
   "metadata": {},
   "outputs": [],
   "source": [
    "# to_list() is not stable, cant guarantee to have split the value into two or more lists. if the first value is None, then it will only have one column\n",
    "df_liepin_jd_female[['company_size_low', 'company_size_high']] = pd.DataFrame(df_liepin_jd_female[\"company_size\"].apply(liepin_company_size_clean).to_list(), index=df_liepin_jd_female.index)\n",
    "\n",
    "\n"
   ]
  },
  {
   "cell_type": "code",
   "execution_count": 31,
   "metadata": {},
   "outputs": [],
   "source": [
    "df_liepin_jd_female['platform'] = 'liepin'"
   ]
  },
  {
   "cell_type": "code",
   "execution_count": 35,
   "metadata": {
    "scrolled": true
   },
   "outputs": [
    {
     "data": {
      "text/plain": [
       "array(['专业服务(咨询/财会/法律/翻...', None, '游戏产业', '计算机软件', '百货/批发/零售',\n",
       "       '基金/证券/期货/投资', '租赁服务', '电子商务', '原材料及加工'], dtype=object)"
      ]
     },
     "execution_count": 35,
     "metadata": {},
     "output_type": "execute_result"
    }
   ],
   "source": [
    "df_liepin_jd_female['company_industry'].unique()"
   ]
  },
  {
   "cell_type": "code",
   "execution_count": 11,
   "metadata": {},
   "outputs": [],
   "source": [
    "def extract_first_word(s: str)->str:\n",
    "    \"\"\"s: string representing words like company industry, keywords, often separated by different punctuations\n",
    "        only return the first one\n",
    "    \"\"\"\n",
    "    if s:\n",
    "        return re.split(r'\\W+', s)[0]"
   ]
  },
  {
   "cell_type": "code",
   "execution_count": 41,
   "metadata": {},
   "outputs": [],
   "source": [
    "df_liepin_jd_female['company_industry'] = df_liepin_jd_female['company_industry'].apply(extract_first_word)"
   ]
  },
  {
   "cell_type": "code",
   "execution_count": null,
   "metadata": {},
   "outputs": [],
   "source": []
  },
  {
   "cell_type": "code",
   "execution_count": 44,
   "metadata": {},
   "outputs": [],
   "source": [
    "# with open(\"./liepin_female.pickle\", \"wb\") as f:\n",
    "#     pickle.dump(df_liepin_jd_female, f)"
   ]
  },
  {
   "cell_type": "code",
   "execution_count": 2,
   "metadata": {},
   "outputs": [],
   "source": [
    "with open(\"./liepin_female.pickle\", \"rb\") as f:\n",
    "    df = pickle.load(f)"
   ]
  },
  {
   "cell_type": "code",
   "execution_count": 3,
   "metadata": {
    "scrolled": true
   },
   "outputs": [
    {
     "data": {
      "text/html": [
       "<div>\n",
       "<style scoped>\n",
       "    .dataframe tbody tr th:only-of-type {\n",
       "        vertical-align: middle;\n",
       "    }\n",
       "\n",
       "    .dataframe tbody tr th {\n",
       "        vertical-align: top;\n",
       "    }\n",
       "\n",
       "    .dataframe thead th {\n",
       "        text-align: right;\n",
       "    }\n",
       "</style>\n",
       "<table border=\"1\" class=\"dataframe\">\n",
       "  <thead>\n",
       "    <tr style=\"text-align: right;\">\n",
       "      <th></th>\n",
       "      <th>url</th>\n",
       "      <th>company_name</th>\n",
       "      <th>company_size</th>\n",
       "      <th>company_industry</th>\n",
       "      <th>company_address</th>\n",
       "      <th>city</th>\n",
       "      <th>district</th>\n",
       "      <th>job_title</th>\n",
       "      <th>job_description</th>\n",
       "      <th>descrimination_content</th>\n",
       "      <th>salary_range</th>\n",
       "      <th>gender_preference</th>\n",
       "      <th>salary_low</th>\n",
       "      <th>salary_high</th>\n",
       "      <th>company_size_low</th>\n",
       "      <th>company_size_high</th>\n",
       "      <th>platform</th>\n",
       "    </tr>\n",
       "  </thead>\n",
       "  <tbody>\n",
       "    <tr>\n",
       "      <th>0</th>\n",
       "      <td>https://www.liepin.com/job/1928849339.shtml</td>\n",
       "      <td>康佩(杭州)企业管理有限公司</td>\n",
       "      <td>江阴市顾山镇人民路3号</td>\n",
       "      <td>专业服务</td>\n",
       "      <td>None</td>\n",
       "      <td>无锡</td>\n",
       "      <td>无锡</td>\n",
       "      <td>人力资源总监</td>\n",
       "      <td>[职责描述：, 1、根据集团人才发展战略与品牌公司业务战略，制定品牌公司人力资源发展计划和策...</td>\n",
       "      <td>1、本科及以上学历，心理学、人力资源、企业管理等管理类相关专业女性优先； 4、具备优秀的沟通...</td>\n",
       "      <td>30-35k·12薪</td>\n",
       "      <td>female</td>\n",
       "      <td>30000.0</td>\n",
       "      <td>35000.0</td>\n",
       "      <td>0</td>\n",
       "      <td>0</td>\n",
       "      <td>liepin</td>\n",
       "    </tr>\n",
       "    <tr>\n",
       "      <th>1</th>\n",
       "      <td>https://www.liepin.com/job/1933052343.shtml</td>\n",
       "      <td>新疆大西洋建设投资有限公司</td>\n",
       "      <td>5000-10000人</td>\n",
       "      <td>None</td>\n",
       "      <td>祈福南湾半岛</td>\n",
       "      <td>佛山</td>\n",
       "      <td>高明区</td>\n",
       "      <td>行政专员</td>\n",
       "      <td>[职责描述：, 1、协助总部行政中心日常行政工作的开展，包含相关文案、报表的制作等；, 2、...</td>\n",
       "      <td>1、大专及以上，专业不限；播音主持、中文系专业优先考虑 2、女性身高160CM以上，形象气质...</td>\n",
       "      <td>6-8k·12薪</td>\n",
       "      <td>female</td>\n",
       "      <td>6000.0</td>\n",
       "      <td>8000.0</td>\n",
       "      <td>5000</td>\n",
       "      <td>10000</td>\n",
       "      <td>liepin</td>\n",
       "    </tr>\n",
       "    <tr>\n",
       "      <th>2</th>\n",
       "      <td>https://www.liepin.com/job/1933052341.shtml</td>\n",
       "      <td>新疆大西洋建设投资有限公司</td>\n",
       "      <td>5000-10000人</td>\n",
       "      <td>None</td>\n",
       "      <td>祈福南湾半岛</td>\n",
       "      <td>佛山</td>\n",
       "      <td>三水区</td>\n",
       "      <td>行政专员</td>\n",
       "      <td>[职责描述：, 1、协助总部行政中心日常行政工作的开展，包含相关文案、报表的制作等；, 2、...</td>\n",
       "      <td>1、大专毕业，专业不限；播音主持、中文系专业优先考虑 2、女性身高160CM以上，形象气质佳...</td>\n",
       "      <td>6-8k·12薪</td>\n",
       "      <td>female</td>\n",
       "      <td>6000.0</td>\n",
       "      <td>8000.0</td>\n",
       "      <td>5000</td>\n",
       "      <td>10000</td>\n",
       "      <td>liepin</td>\n",
       "    </tr>\n",
       "    <tr>\n",
       "      <th>3</th>\n",
       "      <td>https://www.liepin.com/job/1933052339.shtml</td>\n",
       "      <td>新疆大西洋建设投资有限公司</td>\n",
       "      <td>5000-10000人</td>\n",
       "      <td>None</td>\n",
       "      <td>祈福南湾半岛</td>\n",
       "      <td>佛山</td>\n",
       "      <td>顺德区</td>\n",
       "      <td>行政专员</td>\n",
       "      <td>[职责描述：, 1、协助总部行政中心日常行政工作的开展，包含相关文案、报表的制作等；, 2、...</td>\n",
       "      <td>1、大专毕业，专业不限；播音主持、中文系专业优先考虑 2、女性身高160CM以上，形象气质佳...</td>\n",
       "      <td>6-8k·12薪</td>\n",
       "      <td>female</td>\n",
       "      <td>6000.0</td>\n",
       "      <td>8000.0</td>\n",
       "      <td>5000</td>\n",
       "      <td>10000</td>\n",
       "      <td>liepin</td>\n",
       "    </tr>\n",
       "    <tr>\n",
       "      <th>4</th>\n",
       "      <td>https://www.liepin.com/job/1933052337.shtml</td>\n",
       "      <td>新疆大西洋建设投资有限公司</td>\n",
       "      <td>5000-10000人</td>\n",
       "      <td>None</td>\n",
       "      <td>祈福南湾半岛</td>\n",
       "      <td>佛山</td>\n",
       "      <td>南海区</td>\n",
       "      <td>行政专员</td>\n",
       "      <td>[职责描述：, 1、协助总部行政中心日常行政工作的开展，包含相关文案、报表的制作等；, 2、...</td>\n",
       "      <td>1、大专毕业，专业不限；播音主持、中文系专业优先考虑 2、女性身高160CM以上，形象气质佳...</td>\n",
       "      <td>6-8k·12薪</td>\n",
       "      <td>female</td>\n",
       "      <td>6000.0</td>\n",
       "      <td>8000.0</td>\n",
       "      <td>5000</td>\n",
       "      <td>10000</td>\n",
       "      <td>liepin</td>\n",
       "    </tr>\n",
       "  </tbody>\n",
       "</table>\n",
       "</div>"
      ],
      "text/plain": [
       "                                           url    company_name company_size  \\\n",
       "0  https://www.liepin.com/job/1928849339.shtml  康佩(杭州)企业管理有限公司  江阴市顾山镇人民路3号   \n",
       "1  https://www.liepin.com/job/1933052343.shtml   新疆大西洋建设投资有限公司  5000-10000人   \n",
       "2  https://www.liepin.com/job/1933052341.shtml   新疆大西洋建设投资有限公司  5000-10000人   \n",
       "3  https://www.liepin.com/job/1933052339.shtml   新疆大西洋建设投资有限公司  5000-10000人   \n",
       "4  https://www.liepin.com/job/1933052337.shtml   新疆大西洋建设投资有限公司  5000-10000人   \n",
       "\n",
       "  company_industry company_address city district job_title  \\\n",
       "0             专业服务            None   无锡       无锡    人力资源总监   \n",
       "1             None          祈福南湾半岛   佛山      高明区      行政专员   \n",
       "2             None          祈福南湾半岛   佛山      三水区      行政专员   \n",
       "3             None          祈福南湾半岛   佛山      顺德区      行政专员   \n",
       "4             None          祈福南湾半岛   佛山      南海区      行政专员   \n",
       "\n",
       "                                     job_description  \\\n",
       "0  [职责描述：, 1、根据集团人才发展战略与品牌公司业务战略，制定品牌公司人力资源发展计划和策...   \n",
       "1  [职责描述：, 1、协助总部行政中心日常行政工作的开展，包含相关文案、报表的制作等；, 2、...   \n",
       "2  [职责描述：, 1、协助总部行政中心日常行政工作的开展，包含相关文案、报表的制作等；, 2、...   \n",
       "3  [职责描述：, 1、协助总部行政中心日常行政工作的开展，包含相关文案、报表的制作等；, 2、...   \n",
       "4  [职责描述：, 1、协助总部行政中心日常行政工作的开展，包含相关文案、报表的制作等；, 2、...   \n",
       "\n",
       "                              descrimination_content salary_range  \\\n",
       "0  1、本科及以上学历，心理学、人力资源、企业管理等管理类相关专业女性优先； 4、具备优秀的沟通...   30-35k·12薪   \n",
       "1  1、大专及以上，专业不限；播音主持、中文系专业优先考虑 2、女性身高160CM以上，形象气质...     6-8k·12薪   \n",
       "2  1、大专毕业，专业不限；播音主持、中文系专业优先考虑 2、女性身高160CM以上，形象气质佳...     6-8k·12薪   \n",
       "3  1、大专毕业，专业不限；播音主持、中文系专业优先考虑 2、女性身高160CM以上，形象气质佳...     6-8k·12薪   \n",
       "4  1、大专毕业，专业不限；播音主持、中文系专业优先考虑 2、女性身高160CM以上，形象气质佳...     6-8k·12薪   \n",
       "\n",
       "  gender_preference  salary_low  salary_high  company_size_low  \\\n",
       "0            female     30000.0      35000.0                 0   \n",
       "1            female      6000.0       8000.0              5000   \n",
       "2            female      6000.0       8000.0              5000   \n",
       "3            female      6000.0       8000.0              5000   \n",
       "4            female      6000.0       8000.0              5000   \n",
       "\n",
       "   company_size_high platform  \n",
       "0                  0   liepin  \n",
       "1              10000   liepin  \n",
       "2              10000   liepin  \n",
       "3              10000   liepin  \n",
       "4              10000   liepin  "
      ]
     },
     "execution_count": 3,
     "metadata": {},
     "output_type": "execute_result"
    }
   ],
   "source": [
    "df.head()"
   ]
  },
  {
   "cell_type": "code",
   "execution_count": 34,
   "metadata": {},
   "outputs": [
    {
     "data": {
      "text/plain": [
       "dtype('int64')"
      ]
     },
     "execution_count": 34,
     "metadata": {},
     "output_type": "execute_result"
    }
   ],
   "source": [
    "df['company_size_high'].dtype"
   ]
  },
  {
   "cell_type": "code",
   "execution_count": 14,
   "metadata": {},
   "outputs": [],
   "source": [
    "def liepin_jd_process(file_path):\n",
    "    with open(file_path, 'r') as f:\n",
    "        data = json.load(f)\n",
    "        df_liepin = pd.DataFrame(data)\n",
    "        # process salary to monthly salary in K RMB\n",
    "        # salary from liepin, example: '30-35k·12薪', last 5 chars k·12薪 are not needed, and specail case: 面议\n",
    "        # transform it into two columns: salary_low, salary_high\n",
    "        df_liepin[['salary_low', 'salary_high']] = (df_liepin['salary_range']\n",
    "                                                    .str.slice(stop=-5)\n",
    "                                                    .str.split(\"-\", expand=True)\n",
    "                                                    .replace('', np.nan)\n",
    "                                                    .astype(float)\n",
    "                                                    .multiply(1000)\n",
    "                                                    )\n",
    "        df_liepin[['company_size_low', 'company_size_high']] = pd.DataFrame(df_liepin[\"company_size\"].apply(liepin_company_size_clean).to_list(), index=df_liepin.index)\n",
    "        df_liepin['company_industry'] = df_liepin['company_industry'].apply(extract_first_word)\n",
    "        df_liepin['platform'] = 'liepin'\n",
    "        \n",
    "        return df_liepin"
   ]
  },
  {
   "cell_type": "code",
   "execution_count": 15,
   "metadata": {},
   "outputs": [],
   "source": [
    "path = os.path.dirname(os.path.abspath(\".\"))+'/jd_spider/jd_spider/spiders/output/liepin_jd_male.json'\n",
    "df_liepin_male = liepin_jd_process(path)"
   ]
  },
  {
   "cell_type": "code",
   "execution_count": 77,
   "metadata": {},
   "outputs": [
    {
     "data": {
      "text/plain": [
       "array(['30-35k·12薪', '6-8k·12薪', '9-12k·12薪', '20-40k·14薪', '20-35k·14薪',\n",
       "       '面议', '25-41k·12薪', '9-15k·12薪', '5-8k·12薪', '8-13k·12薪',\n",
       "       '3-4k·12薪', '4-5k·12薪', '5-10k·12薪', '8-12k·12薪', '10-25k·12薪',\n",
       "       '12-15k·12薪', '3-8k·12薪', '3-5k·12薪', '5-9k·12薪', '8-10k·12薪',\n",
       "       '5-15k·12薪', '6-9k·12薪', '10-11k·12薪', '4-8k·12薪', '4-6k·12薪'],\n",
       "      dtype=object)"
      ]
     },
     "execution_count": 77,
     "metadata": {},
     "output_type": "execute_result"
    }
   ],
   "source": [
    "df_liepin_jd_female['salary_range'].unique()"
   ]
  },
  {
   "cell_type": "code",
   "execution_count": 20,
   "metadata": {},
   "outputs": [],
   "source": [
    "######### now clean wu yi jd #####\n"
   ]
  },
  {
   "cell_type": "markdown",
   "metadata": {},
   "source": [
    "#### wuyi JD female first\n",
    "82 records from wuyi for JD records containing \"female first\" keywords\n",
    "\n",
    "TODO:  \n",
    "1. company size, example:  50-150人, 少于50人, 10000人以上, should transform into `company_size_low`, `company_size_high` two colums => done\n",
    "2. company industry has extra [], multiple words => clean [], only need first word => done\n",
    "3. job_type, has extra[], multiple words => clean [], only need first word => done\n",
    "4. keywords: empty[] => None, extra [] needs removal, only need first word => done\n",
    "5. salary_range, example 6-8千/月, 1-1.5千/月 => should transform into monthly `salary_low`,`salary_high` colums => done\n",
    "6. jd_date column transform into datetime type => done"
   ]
  },
  {
   "cell_type": "code",
   "execution_count": 133,
   "metadata": {},
   "outputs": [],
   "source": [
    "with open(os.path.dirname(os.path.abspath(\".\"))+'/jd_spider/jd_spider/spiders/output/wuyi_jd_female.json', 'r') as f:\n",
    "    wuyi_jd_female = json.load(f)\n",
    "wuyi_jd_female_df = pd.DataFrame(wuyi_jd_female)"
   ]
  },
  {
   "cell_type": "code",
   "execution_count": 134,
   "metadata": {},
   "outputs": [
    {
     "data": {
      "text/html": [
       "<div>\n",
       "<style scoped>\n",
       "    .dataframe tbody tr th:only-of-type {\n",
       "        vertical-align: middle;\n",
       "    }\n",
       "\n",
       "    .dataframe tbody tr th {\n",
       "        vertical-align: top;\n",
       "    }\n",
       "\n",
       "    .dataframe thead th {\n",
       "        text-align: right;\n",
       "    }\n",
       "</style>\n",
       "<table border=\"1\" class=\"dataframe\">\n",
       "  <thead>\n",
       "    <tr style=\"text-align: right;\">\n",
       "      <th></th>\n",
       "      <th>url</th>\n",
       "      <th>company_name</th>\n",
       "      <th>company_type</th>\n",
       "      <th>company_size</th>\n",
       "      <th>company_industry</th>\n",
       "      <th>company_address</th>\n",
       "      <th>city</th>\n",
       "      <th>district</th>\n",
       "      <th>job_title</th>\n",
       "      <th>job_type</th>\n",
       "      <th>job_description</th>\n",
       "      <th>descrimination_content</th>\n",
       "      <th>keywords</th>\n",
       "      <th>salary_range</th>\n",
       "      <th>gender_preference</th>\n",
       "      <th>age_requirement</th>\n",
       "      <th>jd_date</th>\n",
       "    </tr>\n",
       "  </thead>\n",
       "  <tbody>\n",
       "    <tr>\n",
       "      <th>0</th>\n",
       "      <td>https://jobs.51job.com/guangzhou-byq/126706895...</td>\n",
       "      <td>航友家园（广州）生物科技有限公司</td>\n",
       "      <td>创业公司</td>\n",
       "      <td>50-150人</td>\n",
       "      <td>[中介服务, 外包服务]</td>\n",
       "      <td>江高神山</td>\n",
       "      <td>广州</td>\n",
       "      <td>白云区</td>\n",
       "      <td>神山汽摩配件组装包吃住200/天</td>\n",
       "      <td>[普工/操作工, 技工]</td>\n",
       "      <td>[【福利待遇】：长白班，20元/时，包吃包住，最少做2个月。人走结清工资！, 【入职要求】女...</td>\n",
       "      <td>【入职要求】女生16到40岁。18-45周岁（男生），男女都可以（女生优先），身体健康，无精...</td>\n",
       "      <td>[]</td>\n",
       "      <td>6-8千/月</td>\n",
       "      <td>female</td>\n",
       "      <td></td>\n",
       "      <td>11-07</td>\n",
       "    </tr>\n",
       "    <tr>\n",
       "      <th>1</th>\n",
       "      <td>https://jobs.51job.com/fuzhou/125588735.html?s...</td>\n",
       "      <td>国网信通亿力科技有限责任公司</td>\n",
       "      <td>国企</td>\n",
       "      <td>None</td>\n",
       "      <td>[通信/电信/网络设备]</td>\n",
       "      <td>None</td>\n",
       "      <td>福州</td>\n",
       "      <td>福州</td>\n",
       "      <td>销售工程师</td>\n",
       "      <td>[其他]</td>\n",
       "      <td>[基本任职资格：, 学历要求：大学本科及以上学历。, 专业要求：市场营销、商务管理等相关专业...</td>\n",
       "      <td>4.女生优先，形象气质佳，具有良好的接待、沟通能力强。</td>\n",
       "      <td>[]</td>\n",
       "      <td>None</td>\n",
       "      <td>female</td>\n",
       "      <td></td>\n",
       "      <td>11-07</td>\n",
       "    </tr>\n",
       "    <tr>\n",
       "      <th>2</th>\n",
       "      <td>https://jobs.51job.com/foshan-nhq/123009632.ht...</td>\n",
       "      <td>佛山市信优达贸易有限公司</td>\n",
       "      <td>民营公司</td>\n",
       "      <td>少于50人</td>\n",
       "      <td>[贸易/进出口, 互联网/电子商务]</td>\n",
       "      <td>罗村佛罗路创新产业园A座</td>\n",
       "      <td>佛山</td>\n",
       "      <td>南海区</td>\n",
       "      <td>亚马逊运营助理</td>\n",
       "      <td>[贸易/外贸专员/助理, 电商专员]</td>\n",
       "      <td>[1, 、负责, Amazon, 账户的日常运营工作，产品上架，推广，优化，物流跟进，售后跟...</td>\n",
       "      <td>、女生优先！男生已招满！</td>\n",
       "      <td>[亚马逊, 跨境电商, 亚马逊销售, 亚马逊专员, 运营, 电商, 外贸业务员, 外贸]</td>\n",
       "      <td>3.5-5千/月</td>\n",
       "      <td>female</td>\n",
       "      <td></td>\n",
       "      <td>None</td>\n",
       "    </tr>\n",
       "    <tr>\n",
       "      <th>3</th>\n",
       "      <td>https://jobs.51job.com/haikou/122933259.html?s...</td>\n",
       "      <td>用友网络科技股份有限公司海南分公司</td>\n",
       "      <td>民营公司</td>\n",
       "      <td>10000人以上</td>\n",
       "      <td>[计算机软件]</td>\n",
       "      <td>海南省海口市国贸大道2号海南时代广场20层A室</td>\n",
       "      <td>海口</td>\n",
       "      <td>海口</td>\n",
       "      <td>实习生-实施实习生</td>\n",
       "      <td>[ERP实施顾问]</td>\n",
       "      <td>[岗位职责：, 1、协助完成客户财务/供应链/HR等软件项目的实施工作。, 2、协助进行客户...</td>\n",
       "      <td>2、女生优先。</td>\n",
       "      <td>[]</td>\n",
       "      <td>1-1.5千/月</td>\n",
       "      <td>female</td>\n",
       "      <td></td>\n",
       "      <td>11-07</td>\n",
       "    </tr>\n",
       "    <tr>\n",
       "      <th>4</th>\n",
       "      <td>https://jobs.51job.com/changchun/119802627.htm...</td>\n",
       "      <td>吉林省精科环保科技有限公司</td>\n",
       "      <td>创业公司</td>\n",
       "      <td>少于50人</td>\n",
       "      <td>[环保]</td>\n",
       "      <td>吉林省长春经济技术开发区</td>\n",
       "      <td>长春</td>\n",
       "      <td>长春</td>\n",
       "      <td>实验室化验分析员</td>\n",
       "      <td>[科研人员, 化工实验室研究员/技术员]</td>\n",
       "      <td>[①主要从事水质样品、气体样品、土壤样品、固体废物样品的实验室分析。, ②在实验室分析的同时...</td>\n",
       "      <td>环境科学、环境工程、分析化学及相关专业，本科及以上学历，女生优先；</td>\n",
       "      <td>[实验室, 技术员, 研究]</td>\n",
       "      <td>3.5-7千/月</td>\n",
       "      <td>female</td>\n",
       "      <td></td>\n",
       "      <td>11-07</td>\n",
       "    </tr>\n",
       "  </tbody>\n",
       "</table>\n",
       "</div>"
      ],
      "text/plain": [
       "                                                 url       company_name  \\\n",
       "0  https://jobs.51job.com/guangzhou-byq/126706895...   航友家园（广州）生物科技有限公司   \n",
       "1  https://jobs.51job.com/fuzhou/125588735.html?s...     国网信通亿力科技有限责任公司   \n",
       "2  https://jobs.51job.com/foshan-nhq/123009632.ht...       佛山市信优达贸易有限公司   \n",
       "3  https://jobs.51job.com/haikou/122933259.html?s...  用友网络科技股份有限公司海南分公司   \n",
       "4  https://jobs.51job.com/changchun/119802627.htm...      吉林省精科环保科技有限公司   \n",
       "\n",
       "  company_type company_size    company_industry          company_address city  \\\n",
       "0         创业公司      50-150人        [中介服务, 外包服务]                     江高神山   广州   \n",
       "1           国企         None        [通信/电信/网络设备]                     None   福州   \n",
       "2         民营公司        少于50人  [贸易/进出口, 互联网/电子商务]             罗村佛罗路创新产业园A座   佛山   \n",
       "3         民营公司     10000人以上             [计算机软件]  海南省海口市国贸大道2号海南时代广场20层A室   海口   \n",
       "4         创业公司        少于50人                [环保]             吉林省长春经济技术开发区   长春   \n",
       "\n",
       "  district         job_title              job_type  \\\n",
       "0      白云区  神山汽摩配件组装包吃住200/天          [普工/操作工, 技工]   \n",
       "1       福州             销售工程师                  [其他]   \n",
       "2      南海区           亚马逊运营助理    [贸易/外贸专员/助理, 电商专员]   \n",
       "3       海口         实习生-实施实习生             [ERP实施顾问]   \n",
       "4       长春          实验室化验分析员  [科研人员, 化工实验室研究员/技术员]   \n",
       "\n",
       "                                     job_description  \\\n",
       "0  [【福利待遇】：长白班，20元/时，包吃包住，最少做2个月。人走结清工资！, 【入职要求】女...   \n",
       "1  [基本任职资格：, 学历要求：大学本科及以上学历。, 专业要求：市场营销、商务管理等相关专业...   \n",
       "2  [1, 、负责, Amazon, 账户的日常运营工作，产品上架，推广，优化，物流跟进，售后跟...   \n",
       "3  [岗位职责：, 1、协助完成客户财务/供应链/HR等软件项目的实施工作。, 2、协助进行客户...   \n",
       "4  [①主要从事水质样品、气体样品、土壤样品、固体废物样品的实验室分析。, ②在实验室分析的同时...   \n",
       "\n",
       "                              descrimination_content  \\\n",
       "0  【入职要求】女生16到40岁。18-45周岁（男生），男女都可以（女生优先），身体健康，无精...   \n",
       "1                        4.女生优先，形象气质佳，具有良好的接待、沟通能力强。   \n",
       "2                                       、女生优先！男生已招满！   \n",
       "3                                            2、女生优先。   \n",
       "4                  环境科学、环境工程、分析化学及相关专业，本科及以上学历，女生优先；   \n",
       "\n",
       "                                       keywords salary_range  \\\n",
       "0                                            []       6-8千/月   \n",
       "1                                            []         None   \n",
       "2  [亚马逊, 跨境电商, 亚马逊销售, 亚马逊专员, 运营, 电商, 外贸业务员, 外贸]     3.5-5千/月   \n",
       "3                                            []     1-1.5千/月   \n",
       "4                                [实验室, 技术员, 研究]     3.5-7千/月   \n",
       "\n",
       "  gender_preference age_requirement jd_date  \n",
       "0            female                   11-07  \n",
       "1            female                   11-07  \n",
       "2            female                    None  \n",
       "3            female                   11-07  \n",
       "4            female                   11-07  "
      ]
     },
     "execution_count": 134,
     "metadata": {},
     "output_type": "execute_result"
    }
   ],
   "source": [
    "wuyi_jd_female_df.head()"
   ]
  },
  {
   "cell_type": "code",
   "execution_count": 32,
   "metadata": {},
   "outputs": [],
   "source": [
    "s = '10000人以上'\n",
    "m = re.match(r\"(?P<size_low>\\d+)人以上\", s)"
   ]
  },
  {
   "cell_type": "code",
   "execution_count": 33,
   "metadata": {},
   "outputs": [
    {
     "data": {
      "text/plain": [
       "{'size_low': '10000'}"
      ]
     },
     "execution_count": 33,
     "metadata": {},
     "output_type": "execute_result"
    }
   ],
   "source": [
    "m.groupdict()"
   ]
  },
  {
   "cell_type": "code",
   "execution_count": 135,
   "metadata": {},
   "outputs": [],
   "source": [
    "def wuyi_company_size_clean(s):\n",
    "    \"\"\"\n",
    "    s: string, company size field value, clean to get result like \"5000-10000\"\n",
    "    return: tuple of integer (low, high), default is (0, 0) for missing value\n",
    "    \"\"\"\n",
    "    if s:\n",
    "        m = re.match(r\"(?P<size_low>\\d+)-(?P<size_high>\\d+)\", s)\n",
    "        if m and 'size_low' in m.groupdict() and 'size_high' in m.groupdict():\n",
    "            return (int(m.groupdict()['size_low']), int(m.groupdict()['size_high']))\n",
    "        # a tuple of None to enforce the to_list() later separate value into two columns\n",
    "        # series.to_list() is not stable, cant guarantee to have split the value into two or more lists. if the first value is None, then it will only have one column\n",
    "        m = re.match(r\"少于(?P<size_high>\\d+)\",s)\n",
    "        if m and 'size_high' in m.groupdict():\n",
    "            return (0, int(m.groupdict()['size_high']))\n",
    "        m = re.match(r\"(?P<size_low>\\d+)人以上\", s)\n",
    "        if m and 'size_low' in m.groupdict():\n",
    "            return (int(m.groupdict()['size_low']), 0)\n",
    "        \n",
    "    return (0, 0) "
   ]
  },
  {
   "cell_type": "code",
   "execution_count": 39,
   "metadata": {},
   "outputs": [
    {
     "data": {
      "text/plain": [
       "(0, 50)"
      ]
     },
     "execution_count": 39,
     "metadata": {},
     "output_type": "execute_result"
    }
   ],
   "source": [
    "s = '少于50人'\n",
    "wuyi_company_size_clean(s)"
   ]
  },
  {
   "cell_type": "code",
   "execution_count": 136,
   "metadata": {},
   "outputs": [],
   "source": [
    "wuyi_jd_female_df[['company_size_low', 'company_size_high']] = pd.DataFrame(wuyi_jd_female_df[\"company_size\"].apply(wuyi_company_size_clean).to_list(), index=wuyi_jd_female_df.index)\n",
    "        "
   ]
  },
  {
   "cell_type": "code",
   "execution_count": 137,
   "metadata": {
    "scrolled": true
   },
   "outputs": [
    {
     "data": {
      "text/plain": [
       "<bound method Series.unique of 0               [中介服务, 外包服务]\n",
       "1               [通信/电信/网络设备]\n",
       "2         [贸易/进出口, 互联网/电子商务]\n",
       "3                    [计算机软件]\n",
       "4                       [环保]\n",
       "               ...          \n",
       "77    [电子技术/半导体/集成电路, 计算机软件]\n",
       "78           [电子技术/半导体/集成电路]\n",
       "79           [电子技术/半导体/集成电路]\n",
       "80    [计算机软件, 电子技术/半导体/集成电路]\n",
       "81    [计算机软件, 电子技术/半导体/集成电路]\n",
       "Name: company_industry, Length: 82, dtype: object>"
      ]
     },
     "execution_count": 137,
     "metadata": {},
     "output_type": "execute_result"
    }
   ],
   "source": [
    "wuyi_jd_female_df['company_industry'].unique"
   ]
  },
  {
   "cell_type": "code",
   "execution_count": 53,
   "metadata": {},
   "outputs": [
    {
     "data": {
      "text/plain": [
       "'贸易'"
      ]
     },
     "execution_count": 53,
     "metadata": {},
     "output_type": "execute_result"
    }
   ],
   "source": [
    "a='[贸易/进出口, 互联网/电子商务]'\n",
    "re.search(r'\\w+',a).group()"
   ]
  },
  {
   "cell_type": "code",
   "execution_count": 65,
   "metadata": {},
   "outputs": [
    {
     "data": {
      "text/plain": [
       "0               ['中介服务', '外包服务']\n",
       "1                 ['通信/电信/网络设备']\n",
       "2         ['贸易/进出口', '互联网/电子商务']\n",
       "3                      ['计算机软件']\n",
       "4                         ['环保']\n",
       "                 ...            \n",
       "77    ['电子技术/半导体/集成电路', '计算机软件']\n",
       "78             ['电子技术/半导体/集成电路']\n",
       "79             ['电子技术/半导体/集成电路']\n",
       "80    ['计算机软件', '电子技术/半导体/集成电路']\n",
       "81    ['计算机软件', '电子技术/半导体/集成电路']\n",
       "Name: company_industry, Length: 82, dtype: object"
      ]
     },
     "execution_count": 65,
     "metadata": {},
     "output_type": "execute_result"
    }
   ],
   "source": [
    "wuyi_jd_female_df['company_industry'].astype('str')"
   ]
  },
  {
   "cell_type": "code",
   "execution_count": 138,
   "metadata": {},
   "outputs": [],
   "source": [
    "wuyi_jd_female_df['company_industry'] = wuyi_jd_female_df['company_industry'].astype('str').apply(lambda x: re.search(r'\\w+',x).group() if x else None)\n",
    "wuyi_jd_female_df['job_type'] = wuyi_jd_female_df['job_type'].astype('str').apply(lambda x: re.search(r'\\w+',x).group() if x else None)\n",
    "wuyi_jd_female_df['keywords'] = wuyi_jd_female_df['keywords'].astype('str').apply(lambda x: re.search(r'\\w+',x).group() if x and x!='[]' else None)"
   ]
  },
  {
   "cell_type": "code",
   "execution_count": 139,
   "metadata": {},
   "outputs": [
    {
     "data": {
      "text/html": [
       "<div>\n",
       "<style scoped>\n",
       "    .dataframe tbody tr th:only-of-type {\n",
       "        vertical-align: middle;\n",
       "    }\n",
       "\n",
       "    .dataframe tbody tr th {\n",
       "        vertical-align: top;\n",
       "    }\n",
       "\n",
       "    .dataframe thead th {\n",
       "        text-align: right;\n",
       "    }\n",
       "</style>\n",
       "<table border=\"1\" class=\"dataframe\">\n",
       "  <thead>\n",
       "    <tr style=\"text-align: right;\">\n",
       "      <th></th>\n",
       "      <th>url</th>\n",
       "      <th>company_name</th>\n",
       "      <th>company_type</th>\n",
       "      <th>company_size</th>\n",
       "      <th>company_industry</th>\n",
       "      <th>company_address</th>\n",
       "      <th>city</th>\n",
       "      <th>district</th>\n",
       "      <th>job_title</th>\n",
       "      <th>job_type</th>\n",
       "      <th>job_description</th>\n",
       "      <th>descrimination_content</th>\n",
       "      <th>keywords</th>\n",
       "      <th>salary_range</th>\n",
       "      <th>gender_preference</th>\n",
       "      <th>age_requirement</th>\n",
       "      <th>jd_date</th>\n",
       "      <th>company_size_low</th>\n",
       "      <th>company_size_high</th>\n",
       "    </tr>\n",
       "  </thead>\n",
       "  <tbody>\n",
       "    <tr>\n",
       "      <th>0</th>\n",
       "      <td>https://jobs.51job.com/guangzhou-byq/126706895...</td>\n",
       "      <td>航友家园（广州）生物科技有限公司</td>\n",
       "      <td>创业公司</td>\n",
       "      <td>50-150人</td>\n",
       "      <td>中介服务</td>\n",
       "      <td>江高神山</td>\n",
       "      <td>广州</td>\n",
       "      <td>白云区</td>\n",
       "      <td>神山汽摩配件组装包吃住200/天</td>\n",
       "      <td>普工</td>\n",
       "      <td>[【福利待遇】：长白班，20元/时，包吃包住，最少做2个月。人走结清工资！, 【入职要求】女...</td>\n",
       "      <td>【入职要求】女生16到40岁。18-45周岁（男生），男女都可以（女生优先），身体健康，无精...</td>\n",
       "      <td>None</td>\n",
       "      <td>6-8千/月</td>\n",
       "      <td>female</td>\n",
       "      <td></td>\n",
       "      <td>11-07</td>\n",
       "      <td>50</td>\n",
       "      <td>150</td>\n",
       "    </tr>\n",
       "    <tr>\n",
       "      <th>1</th>\n",
       "      <td>https://jobs.51job.com/fuzhou/125588735.html?s...</td>\n",
       "      <td>国网信通亿力科技有限责任公司</td>\n",
       "      <td>国企</td>\n",
       "      <td>None</td>\n",
       "      <td>通信</td>\n",
       "      <td>None</td>\n",
       "      <td>福州</td>\n",
       "      <td>福州</td>\n",
       "      <td>销售工程师</td>\n",
       "      <td>其他</td>\n",
       "      <td>[基本任职资格：, 学历要求：大学本科及以上学历。, 专业要求：市场营销、商务管理等相关专业...</td>\n",
       "      <td>4.女生优先，形象气质佳，具有良好的接待、沟通能力强。</td>\n",
       "      <td>None</td>\n",
       "      <td>None</td>\n",
       "      <td>female</td>\n",
       "      <td></td>\n",
       "      <td>11-07</td>\n",
       "      <td>0</td>\n",
       "      <td>0</td>\n",
       "    </tr>\n",
       "    <tr>\n",
       "      <th>2</th>\n",
       "      <td>https://jobs.51job.com/foshan-nhq/123009632.ht...</td>\n",
       "      <td>佛山市信优达贸易有限公司</td>\n",
       "      <td>民营公司</td>\n",
       "      <td>少于50人</td>\n",
       "      <td>贸易</td>\n",
       "      <td>罗村佛罗路创新产业园A座</td>\n",
       "      <td>佛山</td>\n",
       "      <td>南海区</td>\n",
       "      <td>亚马逊运营助理</td>\n",
       "      <td>贸易</td>\n",
       "      <td>[1, 、负责, Amazon, 账户的日常运营工作，产品上架，推广，优化，物流跟进，售后跟...</td>\n",
       "      <td>、女生优先！男生已招满！</td>\n",
       "      <td>亚马逊</td>\n",
       "      <td>3.5-5千/月</td>\n",
       "      <td>female</td>\n",
       "      <td></td>\n",
       "      <td>None</td>\n",
       "      <td>0</td>\n",
       "      <td>50</td>\n",
       "    </tr>\n",
       "    <tr>\n",
       "      <th>3</th>\n",
       "      <td>https://jobs.51job.com/haikou/122933259.html?s...</td>\n",
       "      <td>用友网络科技股份有限公司海南分公司</td>\n",
       "      <td>民营公司</td>\n",
       "      <td>10000人以上</td>\n",
       "      <td>计算机软件</td>\n",
       "      <td>海南省海口市国贸大道2号海南时代广场20层A室</td>\n",
       "      <td>海口</td>\n",
       "      <td>海口</td>\n",
       "      <td>实习生-实施实习生</td>\n",
       "      <td>ERP实施顾问</td>\n",
       "      <td>[岗位职责：, 1、协助完成客户财务/供应链/HR等软件项目的实施工作。, 2、协助进行客户...</td>\n",
       "      <td>2、女生优先。</td>\n",
       "      <td>None</td>\n",
       "      <td>1-1.5千/月</td>\n",
       "      <td>female</td>\n",
       "      <td></td>\n",
       "      <td>11-07</td>\n",
       "      <td>10000</td>\n",
       "      <td>0</td>\n",
       "    </tr>\n",
       "    <tr>\n",
       "      <th>4</th>\n",
       "      <td>https://jobs.51job.com/changchun/119802627.htm...</td>\n",
       "      <td>吉林省精科环保科技有限公司</td>\n",
       "      <td>创业公司</td>\n",
       "      <td>少于50人</td>\n",
       "      <td>环保</td>\n",
       "      <td>吉林省长春经济技术开发区</td>\n",
       "      <td>长春</td>\n",
       "      <td>长春</td>\n",
       "      <td>实验室化验分析员</td>\n",
       "      <td>科研人员</td>\n",
       "      <td>[①主要从事水质样品、气体样品、土壤样品、固体废物样品的实验室分析。, ②在实验室分析的同时...</td>\n",
       "      <td>环境科学、环境工程、分析化学及相关专业，本科及以上学历，女生优先；</td>\n",
       "      <td>实验室</td>\n",
       "      <td>3.5-7千/月</td>\n",
       "      <td>female</td>\n",
       "      <td></td>\n",
       "      <td>11-07</td>\n",
       "      <td>0</td>\n",
       "      <td>50</td>\n",
       "    </tr>\n",
       "  </tbody>\n",
       "</table>\n",
       "</div>"
      ],
      "text/plain": [
       "                                                 url       company_name  \\\n",
       "0  https://jobs.51job.com/guangzhou-byq/126706895...   航友家园（广州）生物科技有限公司   \n",
       "1  https://jobs.51job.com/fuzhou/125588735.html?s...     国网信通亿力科技有限责任公司   \n",
       "2  https://jobs.51job.com/foshan-nhq/123009632.ht...       佛山市信优达贸易有限公司   \n",
       "3  https://jobs.51job.com/haikou/122933259.html?s...  用友网络科技股份有限公司海南分公司   \n",
       "4  https://jobs.51job.com/changchun/119802627.htm...      吉林省精科环保科技有限公司   \n",
       "\n",
       "  company_type company_size company_industry          company_address city  \\\n",
       "0         创业公司      50-150人             中介服务                     江高神山   广州   \n",
       "1           国企         None               通信                     None   福州   \n",
       "2         民营公司        少于50人               贸易             罗村佛罗路创新产业园A座   佛山   \n",
       "3         民营公司     10000人以上            计算机软件  海南省海口市国贸大道2号海南时代广场20层A室   海口   \n",
       "4         创业公司        少于50人               环保             吉林省长春经济技术开发区   长春   \n",
       "\n",
       "  district         job_title job_type  \\\n",
       "0      白云区  神山汽摩配件组装包吃住200/天       普工   \n",
       "1       福州             销售工程师       其他   \n",
       "2      南海区           亚马逊运营助理       贸易   \n",
       "3       海口         实习生-实施实习生  ERP实施顾问   \n",
       "4       长春          实验室化验分析员     科研人员   \n",
       "\n",
       "                                     job_description  \\\n",
       "0  [【福利待遇】：长白班，20元/时，包吃包住，最少做2个月。人走结清工资！, 【入职要求】女...   \n",
       "1  [基本任职资格：, 学历要求：大学本科及以上学历。, 专业要求：市场营销、商务管理等相关专业...   \n",
       "2  [1, 、负责, Amazon, 账户的日常运营工作，产品上架，推广，优化，物流跟进，售后跟...   \n",
       "3  [岗位职责：, 1、协助完成客户财务/供应链/HR等软件项目的实施工作。, 2、协助进行客户...   \n",
       "4  [①主要从事水质样品、气体样品、土壤样品、固体废物样品的实验室分析。, ②在实验室分析的同时...   \n",
       "\n",
       "                              descrimination_content keywords salary_range  \\\n",
       "0  【入职要求】女生16到40岁。18-45周岁（男生），男女都可以（女生优先），身体健康，无精...     None       6-8千/月   \n",
       "1                        4.女生优先，形象气质佳，具有良好的接待、沟通能力强。     None         None   \n",
       "2                                       、女生优先！男生已招满！      亚马逊     3.5-5千/月   \n",
       "3                                            2、女生优先。     None     1-1.5千/月   \n",
       "4                  环境科学、环境工程、分析化学及相关专业，本科及以上学历，女生优先；      实验室     3.5-7千/月   \n",
       "\n",
       "  gender_preference age_requirement jd_date  company_size_low  \\\n",
       "0            female                   11-07                50   \n",
       "1            female                   11-07                 0   \n",
       "2            female                    None                 0   \n",
       "3            female                   11-07             10000   \n",
       "4            female                   11-07                 0   \n",
       "\n",
       "   company_size_high  \n",
       "0                150  \n",
       "1                  0  \n",
       "2                 50  \n",
       "3                  0  \n",
       "4                 50  "
      ]
     },
     "execution_count": 139,
     "metadata": {},
     "output_type": "execute_result"
    }
   ],
   "source": [
    "wuyi_jd_female_df.head()"
   ]
  },
  {
   "cell_type": "code",
   "execution_count": 71,
   "metadata": {
    "scrolled": true
   },
   "outputs": [
    {
     "data": {
      "text/plain": [
       "array(['6-8千/月', None, '3.5-5千/月', '1-1.5千/月', '3.5-7千/月', '3.5-4.5千/月',\n",
       "       '4-5千/月', '100元/天', '3-4.5千/月', '0.6-1万/月', '0.8-1万/月', '4.5-6千/月',\n",
       "       '150元/天', '4.5-5千/月', '0.5-1万/月', '3-5千/月', '1.5-2万/月', '4-6千/月',\n",
       "       '4.5-8千/月', '0.4-1.2万/月', '3-6千/月'], dtype=object)"
      ]
     },
     "execution_count": 71,
     "metadata": {},
     "output_type": "execute_result"
    }
   ],
   "source": [
    "wuyi_jd_female_df['salary_range'].unique()"
   ]
  },
  {
   "cell_type": "code",
   "execution_count": 140,
   "metadata": {},
   "outputs": [],
   "source": [
    "def wuyi_salary_clean(s):\n",
    "    if not s:\n",
    "        return (np.nan, np.nan)\n",
    "    elif re.search(r'千/月',s):\n",
    "        low, high = re.match(r'(\\d+\\.?\\d*)-(\\d+\\.?\\d*)',s).groups()\n",
    "        return float(low)*1000, float(high)*1000\n",
    "    elif re.search(r'万/月',s):\n",
    "        low, high = re.match(r'(\\d+\\.?\\d*)-(\\d+\\.?\\d*)',s).groups()\n",
    "        return float(low)*10000, float(high)*10000\n",
    "    elif re.search(r'元/天',s):\n",
    "        salary = re.match(r'(\\d+\\.?\\d*)', s).group()\n",
    "        return float(salary)*30, float(salary)*30\n",
    "    else:\n",
    "        return (np.nan, np.nan)"
   ]
  },
  {
   "cell_type": "code",
   "execution_count": 141,
   "metadata": {},
   "outputs": [],
   "source": [
    "wuyi_jd_female_df[['salary_low','salary_high']] = pd.DataFrame(wuyi_jd_female_df['salary_range'].apply(wuyi_salary_clean).tolist(), index=wuyi_jd_female_df.index)"
   ]
  },
  {
   "cell_type": "code",
   "execution_count": 142,
   "metadata": {},
   "outputs": [
    {
     "data": {
      "text/plain": [
       "0     11-07\n",
       "1     11-07\n",
       "2      None\n",
       "3     11-07\n",
       "4     11-07\n",
       "      ...  \n",
       "77    10-11\n",
       "78    09-28\n",
       "79     None\n",
       "80    09-27\n",
       "81    09-27\n",
       "Name: jd_date, Length: 82, dtype: object"
      ]
     },
     "execution_count": 142,
     "metadata": {},
     "output_type": "execute_result"
    }
   ],
   "source": [
    "wuyi_jd_female_df['jd_date']"
   ]
  },
  {
   "cell_type": "code",
   "execution_count": 143,
   "metadata": {},
   "outputs": [],
   "source": [
    "wuyi_jd_female_df['jd_publish_month'] = pd.to_datetime(wuyi_jd_female_df['jd_date'], format='%m-%d', errors='coerce').dt.month.fillna(0).astype(int)"
   ]
  },
  {
   "cell_type": "code",
   "execution_count": 150,
   "metadata": {},
   "outputs": [
    {
     "data": {
      "text/html": [
       "<div>\n",
       "<style scoped>\n",
       "    .dataframe tbody tr th:only-of-type {\n",
       "        vertical-align: middle;\n",
       "    }\n",
       "\n",
       "    .dataframe tbody tr th {\n",
       "        vertical-align: top;\n",
       "    }\n",
       "\n",
       "    .dataframe thead th {\n",
       "        text-align: right;\n",
       "    }\n",
       "</style>\n",
       "<table border=\"1\" class=\"dataframe\">\n",
       "  <thead>\n",
       "    <tr style=\"text-align: right;\">\n",
       "      <th></th>\n",
       "      <th>gender_preference</th>\n",
       "      <th>descrimination_content</th>\n",
       "    </tr>\n",
       "  </thead>\n",
       "  <tbody>\n",
       "    <tr>\n",
       "      <th>0</th>\n",
       "      <td>female</td>\n",
       "      <td>【入职要求】女生16到40岁。18-45周岁（男生），男女都可以（女生优先），身体健康，无精...</td>\n",
       "    </tr>\n",
       "    <tr>\n",
       "      <th>1</th>\n",
       "      <td>female</td>\n",
       "      <td>4.女生优先，形象气质佳，具有良好的接待、沟通能力强。</td>\n",
       "    </tr>\n",
       "    <tr>\n",
       "      <th>2</th>\n",
       "      <td>female</td>\n",
       "      <td>、女生优先！男生已招满！</td>\n",
       "    </tr>\n",
       "    <tr>\n",
       "      <th>3</th>\n",
       "      <td>female</td>\n",
       "      <td>2、女生优先。</td>\n",
       "    </tr>\n",
       "    <tr>\n",
       "      <th>4</th>\n",
       "      <td>female</td>\n",
       "      <td>环境科学、环境工程、分析化学及相关专业，本科及以上学历，女生优先；</td>\n",
       "    </tr>\n",
       "  </tbody>\n",
       "</table>\n",
       "</div>"
      ],
      "text/plain": [
       "  gender_preference                             descrimination_content\n",
       "0            female  【入职要求】女生16到40岁。18-45周岁（男生），男女都可以（女生优先），身体健康，无精...\n",
       "1            female                        4.女生优先，形象气质佳，具有良好的接待、沟通能力强。\n",
       "2            female                                       、女生优先！男生已招满！\n",
       "3            female                                            2、女生优先。\n",
       "4            female                  环境科学、环境工程、分析化学及相关专业，本科及以上学历，女生优先；"
      ]
     },
     "execution_count": 150,
     "metadata": {},
     "output_type": "execute_result"
    }
   ],
   "source": [
    "wuyi_jd_female_df[['gender_preference', 'descrimination_content']].head()"
   ]
  },
  {
   "cell_type": "code",
   "execution_count": 146,
   "metadata": {},
   "outputs": [],
   "source": [
    "def wuyi_jd_process(file_path):\n",
    "    with open(file_path, 'r') as f:\n",
    "        data = json.load(f)\n",
    "        df = pd.DataFrame(data)\n",
    "        df[['company_size_low', 'company_size_high']] = pd.DataFrame(df[\"company_size\"].apply(wuyi_company_size_clean).to_list(), index=df.index)\n",
    "        df['company_industry'] = df['company_industry'].astype('str').apply(lambda x: re.search(r'\\w+',x).group() if x else None)\n",
    "        df['job_type'] = df['job_type'].astype('str').apply(lambda x: re.search(r'\\w+',x).group() if x else None)\n",
    "        df['keywords'] = df['keywords'].astype('str').apply(lambda x: re.search(r'\\w+',x).group() if x and x!='[]' else None)\n",
    "        df[['salary_low','salary_high']] = pd.DataFrame(df['salary_range'].apply(wuyi_salary_clean).tolist(), index=df.index)\n",
    "        # missing date set as 0\n",
    "        df['jd_publish_month'] = pd.to_datetime(df['jd_date'], format='%m-%d', errors='coerce').dt.month.fillna(0).astype(int)\n",
    "        return df"
   ]
  },
  {
   "cell_type": "code",
   "execution_count": 151,
   "metadata": {},
   "outputs": [],
   "source": [
    "file_path = os.path.dirname(os.path.abspath(\".\"))+'/jd_spider/jd_spider/spiders/output/wuyi_jd_male.json'\n",
    "wuyi_male_jd_df = wuyi_jd_process(file_path)\n"
   ]
  },
  {
   "cell_type": "code",
   "execution_count": 153,
   "metadata": {},
   "outputs": [
    {
     "data": {
      "text/html": [
       "<div>\n",
       "<style scoped>\n",
       "    .dataframe tbody tr th:only-of-type {\n",
       "        vertical-align: middle;\n",
       "    }\n",
       "\n",
       "    .dataframe tbody tr th {\n",
       "        vertical-align: top;\n",
       "    }\n",
       "\n",
       "    .dataframe thead th {\n",
       "        text-align: right;\n",
       "    }\n",
       "</style>\n",
       "<table border=\"1\" class=\"dataframe\">\n",
       "  <thead>\n",
       "    <tr style=\"text-align: right;\">\n",
       "      <th></th>\n",
       "      <th>gender_preference</th>\n",
       "      <th>descrimination_content</th>\n",
       "    </tr>\n",
       "  </thead>\n",
       "  <tbody>\n",
       "    <tr>\n",
       "      <th>0</th>\n",
       "      <td>male</td>\n",
       "      <td>3、形象气质佳。男生优先，女生有小孩者优先。</td>\n",
       "    </tr>\n",
       "    <tr>\n",
       "      <th>1</th>\n",
       "      <td>male</td>\n",
       "      <td>男生优先，女生也可！</td>\n",
       "    </tr>\n",
       "    <tr>\n",
       "      <th>2</th>\n",
       "      <td>male</td>\n",
       "      <td>5、较强的适应能力，可驻点省内经销商，进行财务工作指导（广东省内出差，男生优先；女生亦可考虑）</td>\n",
       "    </tr>\n",
       "    <tr>\n",
       "      <th>3</th>\n",
       "      <td>male</td>\n",
       "      <td>4、一年以上工作经验，男生优先</td>\n",
       "    </tr>\n",
       "    <tr>\n",
       "      <th>4</th>\n",
       "      <td>male</td>\n",
       "      <td>1.要求英语4级—6级，男生优先，条件优秀的女生也可考虑；</td>\n",
       "    </tr>\n",
       "  </tbody>\n",
       "</table>\n",
       "</div>"
      ],
      "text/plain": [
       "  gender_preference                           descrimination_content\n",
       "0              male                           3、形象气质佳。男生优先，女生有小孩者优先。\n",
       "1              male                                       男生优先，女生也可！\n",
       "2              male  5、较强的适应能力，可驻点省内经销商，进行财务工作指导（广东省内出差，男生优先；女生亦可考虑）\n",
       "3              male                                  4、一年以上工作经验，男生优先\n",
       "4              male                    1.要求英语4级—6级，男生优先，条件优秀的女生也可考虑；"
      ]
     },
     "execution_count": 153,
     "metadata": {},
     "output_type": "execute_result"
    }
   ],
   "source": [
    "wuyi_male_jd_df[['gender_preference', 'descrimination_content']].head()"
   ]
  },
  {
   "cell_type": "code",
   "execution_count": 154,
   "metadata": {},
   "outputs": [],
   "source": [
    "wuyi_male_jd_df\n",
    "with open(\"./wuyi_male.pickle\", \"wb\") as f:\n",
    "    pickle.dump(wuyi_male_jd_df, f)"
   ]
  },
  {
   "cell_type": "code",
   "execution_count": 155,
   "metadata": {},
   "outputs": [],
   "source": [
    "########### zhuobo JD processing ###########"
   ]
  },
  {
   "cell_type": "markdown",
   "metadata": {},
   "source": [
    "#### zhuobo JD female first\n",
    "48 records of female first\n",
    "\n",
    "TODO:\n",
    "1. company industry example \"工艺品、珠宝、钟表\", separated with \"、\" only need the first words => done\n",
    "2. company size, example \"少于50人, 50-200人, None\", need to transform into `company_size_low`, `company_size_high` two colums => done\n",
    "3. job title, some has () and /, remove the words in the () => done\n",
    "4. job type has [], need to remove the [] and only extract the first words => done\n",
    "5. keywords: has [], need to remove the [] and only extract the first words, can be none => done\n",
    "6. salary_rage: example \"¥3-5K\", need to transform into montly value in two columns  `salary_low`,`salary_high colums` => done\n",
    "7. age requirements: example, \"18-30\", \"不限\", \"30岁以下\", transform into \"age_low\", \"age_high\" two columns => may not needed\n"
   ]
  },
  {
   "cell_type": "code",
   "execution_count": 156,
   "metadata": {},
   "outputs": [],
   "source": [
    "with open(os.path.dirname(os.path.abspath(\".\"))+'/jd_spider/jd_spider/spiders/output/zhuobo_jd_female.json', 'r') as f:\n",
    "    zhuobo_jd_female = json.load(f)\n",
    "zhuobo_jd_female_df = pd.DataFrame(zhuobo_jd_female)"
   ]
  },
  {
   "cell_type": "code",
   "execution_count": 163,
   "metadata": {},
   "outputs": [
    {
     "data": {
      "text/plain": [
       "array(['工艺品、珠宝、钟表', '印刷、包装', '机械制造、机电、重工', '建筑施工与工程', '其他生产、制造、加工',\n",
       "       '纺织品业(服饰、鞋类、家纺用品…)', '咨询、调查、企业管理服务', '橡胶、塑料制品', '贸易、进出口',\n",
       "       '汽车、摩托车及零配件', '能源', '原材料及加工', '电子技术、半导体、集成电路', '通讯、电信、网络设备',\n",
       "       '计算机软件', '房地产开发', '金属制品'], dtype=object)"
      ]
     },
     "execution_count": 163,
     "metadata": {},
     "output_type": "execute_result"
    }
   ],
   "source": [
    "zhuobo_jd_female_df['company_industry'].unique()"
   ]
  },
  {
   "cell_type": "code",
   "execution_count": 164,
   "metadata": {},
   "outputs": [],
   "source": [
    "zhuobo_jd_female_df['company_industry'] = zhuobo_jd_female_df['company_industry'].str.split('、').str[0]\n",
    "\n"
   ]
  },
  {
   "cell_type": "code",
   "execution_count": 168,
   "metadata": {},
   "outputs": [],
   "source": [
    "zhuobo_jd_female_df[['company_size_low', 'company_size_high']] = pd.DataFrame(zhuobo_jd_female_df[\"company_size\"].apply(wuyi_company_size_clean).to_list(), index=zhuobo_jd_female_df.index)\n",
    "        "
   ]
  },
  {
   "cell_type": "code",
   "execution_count": 221,
   "metadata": {},
   "outputs": [],
   "source": [
    "def job_title_cleans(s):\n",
    "    if s:\n",
    "        s = s.split('/')[0] # remove '/', '商务跟单/助理' => '商务跟单'\n",
    "        p = r'(\\w*)(?<!（|）)(\\w*)' # '采购（急聘！）' => '采购'\n",
    "        res = re.match(p, s)\n",
    "        if res:\n",
    "            return res.group()\n",
    "        p = r'\\(|\\)|（|）'  # '(女生优先)销售代表' => '销售代表'\n",
    "        return re.split(p, s)[-1]\n",
    "    return None"
   ]
  },
  {
   "cell_type": "code",
   "execution_count": 223,
   "metadata": {
    "scrolled": true
   },
   "outputs": [],
   "source": [
    "zhuobo_jd_female_df['job_title'] = zhuobo_jd_female_df['job_title'].apply(job_title_cleans)"
   ]
  },
  {
   "cell_type": "code",
   "execution_count": 227,
   "metadata": {},
   "outputs": [],
   "source": [
    "zhuobo_jd_female_df['job_type'] = zhuobo_jd_female_df['job_type'].astype('str').apply(lambda x: re.search(r'\\w+',x).group() if x and x!='[]' else None)"
   ]
  },
  {
   "cell_type": "code",
   "execution_count": 230,
   "metadata": {},
   "outputs": [],
   "source": [
    "zhuobo_jd_female_df['keywords'] = zhuobo_jd_female_df['keywords'].astype('str').apply(lambda x: re.search(r'\\w+',x).group() if x and x!='[]' else None)"
   ]
  },
  {
   "cell_type": "code",
   "execution_count": 247,
   "metadata": {},
   "outputs": [],
   "source": [
    "def zhuobo_salary_clean(s):\n",
    "    if s:\n",
    "        res = re.match(r'¥(\\d+\\.?\\d*)-(\\d+\\.?\\d*)K',s)\n",
    "        low, high = res.groups() if res else (np.nan, np.nan)\n",
    "        return float(low)*1000, float(high)*1000\n",
    "    return (np.nan, np.nan)"
   ]
  },
  {
   "cell_type": "code",
   "execution_count": 249,
   "metadata": {},
   "outputs": [],
   "source": [
    "zhuobo_jd_female_df[['salary_low','salary_high']] = pd.DataFrame(zhuobo_jd_female_df['salary_range'].apply(zhuobo_salary_clean).tolist(), index=zhuobo_jd_female_df.index)\n",
    "        "
   ]
  },
  {
   "cell_type": "code",
   "execution_count": 254,
   "metadata": {
    "scrolled": false
   },
   "outputs": [
    {
     "data": {
      "text/plain": [
       "0    7.女性优先 4、有客服经验以及手机通讯相关工作经验者优先， 5、个性开朗，善于沟通表达，具...\n",
       "1    1、大专以上学历，女性优先，至少一年以上品质工程师工作经验。 5、全面管理公司与品质相关工作...\n",
       "2                                        3.24周岁内，女性优先。\n",
       "3    1、年龄在30周岁以下，女性优先； 3、2年以上人事行政方面的工作经验，有质量管理体系经验的...\n",
       "4    1、熟悉Excel办公软件电脑操作，会AI与PS软件优先考虑。 欢迎应届毕业生和有经验人员加...\n",
       "Name: descrimination_content, dtype: object"
      ]
     },
     "execution_count": 254,
     "metadata": {},
     "output_type": "execute_result"
    }
   ],
   "source": [
    "zhuobo_jd_female_df['descrimination_content'].head()"
   ]
  },
  {
   "cell_type": "code",
   "execution_count": 256,
   "metadata": {},
   "outputs": [],
   "source": [
    "def zhuobo_jd_process(file_path):\n",
    "    with open(file_path, 'r') as f:\n",
    "        data = json.load(f)\n",
    "        df = pd.DataFrame(data)\n",
    "        df['company_industry'] = df['company_industry'].str.split('、').str[0]\n",
    "        df['job_title'] = df['job_title'].apply(job_title_cleans)\n",
    "        df['job_type'] = df['job_type'].astype('str').apply(lambda x: re.search(r'\\w+',x).group() if x and x!='[]' else None)\n",
    "        df['keywords'] = df['keywords'].astype('str').apply(lambda x: re.search(r'\\w+',x).group() if x and x!='[]' else None)\n",
    "        df[['salary_low','salary_high']] = pd.DataFrame(df['salary_range'].apply(zhuobo_salary_clean).tolist(), index=df.index)\n",
    "        \n",
    "        \n",
    "        return df"
   ]
  },
  {
   "cell_type": "code",
   "execution_count": 258,
   "metadata": {},
   "outputs": [],
   "source": [
    "file_path = os.path.dirname(os.path.abspath(\".\"))+'/jd_spider/jd_spider/spiders/output/zhuobo_jd_male.json'"
   ]
  },
  {
   "cell_type": "code",
   "execution_count": 260,
   "metadata": {},
   "outputs": [],
   "source": [
    "zhuobo_male_df = zhuobo_jd_process(file_path)"
   ]
  },
  {
   "cell_type": "code",
   "execution_count": 263,
   "metadata": {},
   "outputs": [
    {
     "data": {
      "text/plain": [
       "0      ¥3-5K\n",
       "1     ¥8-16K\n",
       "2    ¥4.5-6K\n",
       "3    ¥3.5-6K\n",
       "4     ¥6-12K\n",
       "Name: salary_range, dtype: object"
      ]
     },
     "execution_count": 263,
     "metadata": {},
     "output_type": "execute_result"
    }
   ],
   "source": [
    "zhuobo_male_df['salary_range'].head()"
   ]
  },
  {
   "cell_type": "code",
   "execution_count": null,
   "metadata": {},
   "outputs": [],
   "source": []
  }
 ],
 "metadata": {
  "kernelspec": {
   "display_name": "testground",
   "language": "python",
   "name": "testground"
  },
  "language_info": {
   "codemirror_mode": {
    "name": "ipython",
    "version": 3
   },
   "file_extension": ".py",
   "mimetype": "text/x-python",
   "name": "python",
   "nbconvert_exporter": "python",
   "pygments_lexer": "ipython3",
   "version": "3.8.3"
  }
 },
 "nbformat": 4,
 "nbformat_minor": 4
}
