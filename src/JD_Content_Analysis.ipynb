{
 "cells": [
  {
   "cell_type": "code",
   "execution_count": 138,
   "metadata": {},
   "outputs": [],
   "source": [
    "import json\n",
    "import numpy as np\n",
    "import pandas as pd\n",
    "from copy import copy\n",
    "from matplotlib import pyplot as plt\n",
    "import seaborn\n",
    "import jieba\n",
    "import string\n",
    "import jieba.posseg as pseg\n",
    "import re\n",
    "from datetime import datetime"
   ]
  },
  {
   "cell_type": "code",
   "execution_count": 2,
   "metadata": {},
   "outputs": [
    {
     "name": "stdout",
     "output_type": "stream",
     "text": [
      "/Users/mm17060/Projects/playground/gender_inequality_in_job_posting/src\r\n"
     ]
    }
   ],
   "source": [
    "!pwd"
   ]
  },
  {
   "cell_type": "code",
   "execution_count": 3,
   "metadata": {},
   "outputs": [],
   "source": [
    "with open(\"../jd_spider/jd_spider/spiders/output/wuyi_job/wuyi_male_all_contents.json\", 'r') as f:\n",
    "    wuyi_job_male = json.load(f)"
   ]
  },
  {
   "cell_type": "code",
   "execution_count": 12,
   "metadata": {},
   "outputs": [
    {
     "data": {
      "text/plain": [
       "446"
      ]
     },
     "execution_count": 12,
     "metadata": {},
     "output_type": "execute_result"
    }
   ],
   "source": [
    "# total number of records crawled from wuyi job website withe search term: male first\n",
    "len(wuyi_job_male)\n"
   ]
  },
  {
   "cell_type": "code",
   "execution_count": 4,
   "metadata": {},
   "outputs": [],
   "source": [
    "wuyi_job_male_first = [jd for jd in wuyi_job_male if jd[\"descrimination_content\"]]"
   ]
  },
  {
   "cell_type": "code",
   "execution_count": 5,
   "metadata": {},
   "outputs": [
    {
     "data": {
      "text/plain": [
       "385"
      ]
     },
     "execution_count": 5,
     "metadata": {},
     "output_type": "execute_result"
    }
   ],
   "source": [
    "len(wuyi_job_male_first)"
   ]
  },
  {
   "cell_type": "code",
   "execution_count": 9,
   "metadata": {},
   "outputs": [],
   "source": [
    "# NOT NEEDED ANYMORE\n",
    "# original way of extracting descrimination content may miss some records, here introduce another way\n",
    "wuyi_job_male_first_another = []\n",
    "for jd in wuyi_job_male: \n",
    "    descrimination_content = \" \".join([s.strip() for s in jd[\"job_description\"] if any(phrase in s for phrase in [\"男性优先\", \"男生优先\", \"限男\"])])\n",
    "    descrimination_content = descrimination_content.strip()\n",
    "    if descrimination_content:\n",
    "        jd[\"extra_descrimination_content\"] = descrimination_content\n",
    "        wuyi_job_male_first_another.append(jd)\n",
    "            \n"
   ]
  },
  {
   "cell_type": "code",
   "execution_count": 10,
   "metadata": {},
   "outputs": [
    {
     "data": {
      "text/plain": [
       "384"
      ]
     },
     "execution_count": 10,
     "metadata": {},
     "output_type": "execute_result"
    }
   ],
   "source": [
    "len(wuyi_job_male_first_another)"
   ]
  },
  {
   "cell_type": "code",
   "execution_count": 11,
   "metadata": {},
   "outputs": [
    {
     "data": {
      "text/plain": [
       "{'https://jobs.51job.com/guangzhou-byq/120805153.html?s=01&t=0'}"
      ]
     },
     "execution_count": 11,
     "metadata": {},
     "output_type": "execute_result"
    }
   ],
   "source": [
    "# the missing one has message: 3、***男生，有驾驶证（有自己车更好\n",
    "set([jd[\"url\"] for jd in wuyi_job_male_first]) - set([jd[\"url\"] for jd in wuyi_job_male_first_another])"
   ]
  },
  {
   "cell_type": "markdown",
   "metadata": {},
   "source": [
    "wuyi job seems filter the \"男性优先\", \"男生优先\" search term quite well, no need extra ways of filtering records\n",
    "but good to see why among 446 records, only 385 of them has descrimination contents"
   ]
  },
  {
   "cell_type": "code",
   "execution_count": 16,
   "metadata": {},
   "outputs": [],
   "source": [
    "missed_parsing_urls_male = set([jd[\"url\"] for jd in wuyi_job_male]) - set([jd[\"url\"] for jd in wuyi_job_male_first])"
   ]
  },
  {
   "cell_type": "code",
   "execution_count": 17,
   "metadata": {},
   "outputs": [],
   "source": [
    "with open(\"../jd_spider/jd_spider/spiders/wuyi_missed_parsing_urls_male.json\", \"w\") as f:\n",
    "    json.dump([{'url': url} for url in missed_parsing_urls_male], f)"
   ]
  },
  {
   "cell_type": "code",
   "execution_count": 6,
   "metadata": {},
   "outputs": [],
   "source": [
    "# final wuyi job male first JD contents:\n",
    "with open(\"../jd_spider/jd_spider/spiders/output/wuyi_job/wuyi_missed_parsing_jd_contents_male.json\") as f:\n",
    "    wuyi_missed_job_male_first = json.load(f)\n",
    "    wuyi_missed_job_male_first = [jd for jd in wuyi_missed_job_male_first if jd[\"descrimination_content\"]]\n",
    "\n",
    "final_wuyi_job_male = wuyi_job_male_first + wuyi_missed_job_male_first"
   ]
  },
  {
   "cell_type": "code",
   "execution_count": 7,
   "metadata": {},
   "outputs": [
    {
     "name": "stdout",
     "output_type": "stream",
     "text": [
      "wuyi_job_male_first:  385\n",
      "wuyi_missed_job_male_first 56\n",
      "final_wuyi_job_male 441\n"
     ]
    }
   ],
   "source": [
    "print(\"wuyi_job_male_first: \", len(wuyi_job_male_first))\n",
    "print(\"wuyi_missed_job_male_first\", len(wuyi_missed_job_male_first))\n",
    "print(\"final_wuyi_job_male\", len(final_wuyi_job_male))"
   ]
  },
  {
   "cell_type": "code",
   "execution_count": 9,
   "metadata": {},
   "outputs": [
    {
     "name": "stdout",
     "output_type": "stream",
     "text": [
      "                                                 url        job_title  \\\n",
      "0  https://jobs.51job.com/guangzhou-byq/120805153...    环保工程师助理  男生优先   \n",
      "1  https://jobs.51job.com/guangzhou-hzq/122610064...  产品开发助理（LED灯具开发）   \n",
      "2  https://jobs.51job.com/chengdu-djys/123402350....    陆乐园-动物饲养员（派遣）   \n",
      "3  https://jobs.51job.com/hefei-gxq/123396998.htm...           人事行政专员   \n",
      "4  https://jobs.51job.com/shenzhen-lgq/123300656....          新媒体运营助理   \n",
      "\n",
      "  salary_range    company_name city district  \\\n",
      "0     3-4.5千/月  广州智臻净化环保工程有限公司   广州      白云区   \n",
      "1       4-6千/月      广州延迅科技有限公司   广州      海珠区   \n",
      "2     3-4.5千/月  成都融创文化旅游管理有限公司   成都     都江堰市   \n",
      "3     3-4.5千/月   合肥市方升信息科技有限公司   合肥      高新区   \n",
      "4       4-6千/月    深圳市玖心缘珠宝有限公司   深圳      龙岗区   \n",
      "\n",
      "                                     job_description  \\\n",
      "0     [1、辅助环保工程师收集资料；, 2、交资料；, 3、***男生，有驾驶证（有自己车更好）]   \n",
      "1  [1、协助开发产品和维护产品；, 2、督促工厂和供应商的到货管理；, 3、跟进产品的反馈；,...   \n",
      "2  [萌宠动物饲养、场地清理，表演互动等（熊猫、羊、兔、香猪、天鹅、鹦鹉等）, 【要求】：中专及...   \n",
      "3  [负责招聘、人力资源档案管理等工作；, 负责职称、奖项申报等工作；, 协助领导进行信息的上传...   \n",
      "4  [1、在上级的领导下，根据公司目标制定合理的运营方案；, 2、对运营结果进行整理，形成报告，...   \n",
      "\n",
      "                              descrimination_content  \\\n",
      "0                               3、***男生，有驾驶证（有自己车更好）   \n",
      "1                      2、男生优先（公司工厂在中山，有出差需求，优先考虑男生）；   \n",
      "2  【要求】：中专及以上学历、18-30周岁；喜爱动物、善于表达沟通、吃苦耐劳；有从事动物美容或...   \n",
      "3                                 5、年龄20至25岁之间，男生优先；   \n",
      "4            1、一年左右工作经验，也可以接受应届毕业生，全日制大专以上学历，男生优先考虑；   \n",
      "\n",
      "                    job_type                          keywords company_type  \\\n",
      "0                    [环保工程师]                                []         民营公司   \n",
      "1                     [产品助理]  [亚马逊开发, 开发助理, 产品开发, 供应链维护, 市场调研]         民营公司   \n",
      "2                  [导游/旅行顾问]                        [动物, 包住包住]         上市公司   \n",
      "3  [招聘专员/助理, 企业文化/员工关系/工会管理]    [人事, 招聘, 人事专员, 行政, 招聘专员, 人事助理]         民营公司   \n",
      "4               [活动运营, 用户运营]                        [运营, 活动运营]         民营公司   \n",
      "\n",
      "  company_size  \n",
      "0        少于50人  \n",
      "1      50-150人  \n",
      "2   1000-5000人  \n",
      "3      50-150人  \n",
      "4      50-150人  \n"
     ]
    }
   ],
   "source": [
    "wuyi_job_male_df = pd.DataFrame(final_wuyi_job_male)\n",
    "print(wuyi_job_male_df.head(5))"
   ]
  },
  {
   "cell_type": "markdown",
   "metadata": {},
   "source": [
    "## what would like to know from the wuyi data\n",
    "## what would like to know from all data\n",
    "* what are the industries that requires male first => lack data, did not crawl company industry for wuyi\n",
    "* what is the distribution of company type that requires male first: 民营，事业单位，外企 => company_type\n",
    "* what is the distribution of compnay size that requires male first\n",
    "* what are the job type that requires male first, => keywords, job_type\n",
    "* what is the salary range that requires male first. => salary_range\n",
    "* city distribution => city\n",
    "* what are the most frequent context words appear around the descrimination words: 男性优先， 男生优先， 限男\n",
    "* list company name, job title, url with the most descriminated words => how to determine most discrimiate"
   ]
  },
  {
   "cell_type": "code",
   "execution_count": 29,
   "metadata": {},
   "outputs": [
    {
     "data": {
      "text/html": [
       "<div>\n",
       "<style scoped>\n",
       "    .dataframe tbody tr th:only-of-type {\n",
       "        vertical-align: middle;\n",
       "    }\n",
       "\n",
       "    .dataframe tbody tr th {\n",
       "        vertical-align: top;\n",
       "    }\n",
       "\n",
       "    .dataframe thead th {\n",
       "        text-align: right;\n",
       "    }\n",
       "</style>\n",
       "<table border=\"1\" class=\"dataframe\">\n",
       "  <thead>\n",
       "    <tr style=\"text-align: right;\">\n",
       "      <th></th>\n",
       "      <th>url</th>\n",
       "      <th>job_title</th>\n",
       "      <th>salary_range</th>\n",
       "      <th>company_name</th>\n",
       "      <th>city</th>\n",
       "      <th>district</th>\n",
       "      <th>job_description</th>\n",
       "      <th>descrimination_content</th>\n",
       "      <th>job_type</th>\n",
       "      <th>keywords</th>\n",
       "      <th>company_type</th>\n",
       "      <th>company_size</th>\n",
       "    </tr>\n",
       "  </thead>\n",
       "  <tbody>\n",
       "    <tr>\n",
       "      <th>count</th>\n",
       "      <td>441</td>\n",
       "      <td>441</td>\n",
       "      <td>434</td>\n",
       "      <td>441</td>\n",
       "      <td>441</td>\n",
       "      <td>441</td>\n",
       "      <td>441</td>\n",
       "      <td>441</td>\n",
       "      <td>441</td>\n",
       "      <td>441</td>\n",
       "      <td>439</td>\n",
       "      <td>439</td>\n",
       "    </tr>\n",
       "    <tr>\n",
       "      <th>unique</th>\n",
       "      <td>441</td>\n",
       "      <td>393</td>\n",
       "      <td>92</td>\n",
       "      <td>378</td>\n",
       "      <td>67</td>\n",
       "      <td>187</td>\n",
       "      <td>414</td>\n",
       "      <td>370</td>\n",
       "      <td>288</td>\n",
       "      <td>266</td>\n",
       "      <td>10</td>\n",
       "      <td>7</td>\n",
       "    </tr>\n",
       "    <tr>\n",
       "      <th>top</th>\n",
       "      <td>https://jobs.51job.com/shanghai/123171878.html...</td>\n",
       "      <td>管理培训生</td>\n",
       "      <td>3-4.5千/月</td>\n",
       "      <td>广州天章网络科技有限公司</td>\n",
       "      <td>上海</td>\n",
       "      <td>天河区</td>\n",
       "      <td>[包吃包住，地铁站旁边，带敞篷天台极致夜景办公环境，坐办公室无外出，平时有下午茶、各种活动、...</td>\n",
       "      <td>男生优先</td>\n",
       "      <td>[其他]</td>\n",
       "      <td>[]</td>\n",
       "      <td>民营公司</td>\n",
       "      <td>50-150人</td>\n",
       "    </tr>\n",
       "    <tr>\n",
       "      <th>freq</th>\n",
       "      <td>1</td>\n",
       "      <td>5</td>\n",
       "      <td>65</td>\n",
       "      <td>8</td>\n",
       "      <td>70</td>\n",
       "      <td>19</td>\n",
       "      <td>6</td>\n",
       "      <td>13</td>\n",
       "      <td>31</td>\n",
       "      <td>155</td>\n",
       "      <td>330</td>\n",
       "      <td>138</td>\n",
       "    </tr>\n",
       "  </tbody>\n",
       "</table>\n",
       "</div>"
      ],
      "text/plain": [
       "                                                      url job_title  \\\n",
       "count                                                 441       441   \n",
       "unique                                                441       393   \n",
       "top     https://jobs.51job.com/shanghai/123171878.html...     管理培训生   \n",
       "freq                                                    1         5   \n",
       "\n",
       "       salary_range  company_name city district  \\\n",
       "count           434           441  441      441   \n",
       "unique           92           378   67      187   \n",
       "top        3-4.5千/月  广州天章网络科技有限公司   上海      天河区   \n",
       "freq             65             8   70       19   \n",
       "\n",
       "                                          job_description  \\\n",
       "count                                                 441   \n",
       "unique                                                414   \n",
       "top     [包吃包住，地铁站旁边，带敞篷天台极致夜景办公环境，坐办公室无外出，平时有下午茶、各种活动、...   \n",
       "freq                                                    6   \n",
       "\n",
       "       descrimination_content job_type keywords company_type company_size  \n",
       "count                     441      441      441          439          439  \n",
       "unique                    370      288      266           10            7  \n",
       "top                      男生优先     [其他]       []         民营公司      50-150人  \n",
       "freq                       13       31      155          330          138  "
      ]
     },
     "execution_count": 29,
     "metadata": {},
     "output_type": "execute_result"
    }
   ],
   "source": [
    "wuyi_job_male_df.describe()"
   ]
  },
  {
   "cell_type": "code",
   "execution_count": 10,
   "metadata": {},
   "outputs": [
    {
     "data": {
      "text/plain": [
       "array(['广州', '成都', '合肥', '深圳', '吉安', '上海', '南京', '珠海', '苏州', '东莞', '南通',\n",
       "       '长沙', '绍兴', '天津', '济南', '杭州', '昆明', '中山', '西安', '三亚', '南阳', '佛山',\n",
       "       '常州', '清远', '武汉', '大连', '金华', '沈阳', '北京', '宁波', '福州', '青岛', '无锡',\n",
       "       '常熟', '江门', '南昌', '南宁', '汕尾', '昆山', '湖州', '黄冈', '惠州', '泸州', '郑州',\n",
       "       '重庆', '上饶', '南充', '柳州', '蚌埠', '扬州', '哈尔滨', '荆门', '广东省', '靖江', '锦州',\n",
       "       '呼和浩特', '泰州', '滁州', '泉州', '文山', '嘉兴', '六安', '西双版纳', '长春', '湖北省',\n",
       "       '大理', '山东省'], dtype=object)"
      ]
     },
     "execution_count": 10,
     "metadata": {},
     "output_type": "execute_result"
    }
   ],
   "source": [
    "wuyi_job_male_df[\"city\"].unique()"
   ]
  },
  {
   "cell_type": "code",
   "execution_count": 13,
   "metadata": {},
   "outputs": [
    {
     "data": {
      "text/plain": [
       "array(['民营公司', '上市公司', '创业公司', '外资（非欧美）', '合资', '国企', '外资（欧美）', '事业单位',\n",
       "       '非营利组织', '政府机关', None], dtype=object)"
      ]
     },
     "execution_count": 13,
     "metadata": {},
     "output_type": "execute_result"
    }
   ],
   "source": [
    "wuyi_job_male_df[\"company_type\"].unique()"
   ]
  },
  {
   "cell_type": "code",
   "execution_count": 21,
   "metadata": {},
   "outputs": [],
   "source": [
    "wuyi_company_type = wuyi_job_male_df[\"company_type\"].fillna(\"无\")"
   ]
  },
  {
   "cell_type": "code",
   "execution_count": 22,
   "metadata": {},
   "outputs": [
    {
     "data": {
      "text/plain": [
       "民营公司       330\n",
       "外资（非欧美）     32\n",
       "合资          22\n",
       "国企          22\n",
       "上市公司        15\n",
       "非营利组织        9\n",
       "外资（欧美）       4\n",
       "创业公司         3\n",
       "无            2\n",
       "事业单位         1\n",
       "政府机关         1\n",
       "Name: company_type, dtype: int64"
      ]
     },
     "execution_count": 22,
     "metadata": {},
     "output_type": "execute_result"
    }
   ],
   "source": [
    "wuyi_company_type.value_counts()"
   ]
  },
  {
   "cell_type": "code",
   "execution_count": 39,
   "metadata": {},
   "outputs": [
    {
     "data": {
      "text/html": [
       "<div>\n",
       "<style scoped>\n",
       "    .dataframe tbody tr th:only-of-type {\n",
       "        vertical-align: middle;\n",
       "    }\n",
       "\n",
       "    .dataframe tbody tr th {\n",
       "        vertical-align: top;\n",
       "    }\n",
       "\n",
       "    .dataframe thead th {\n",
       "        text-align: right;\n",
       "    }\n",
       "</style>\n",
       "<table border=\"1\" class=\"dataframe\">\n",
       "  <thead>\n",
       "    <tr style=\"text-align: right;\">\n",
       "      <th></th>\n",
       "      <th>url</th>\n",
       "      <th>job_title</th>\n",
       "      <th>salary_range</th>\n",
       "      <th>company_name</th>\n",
       "      <th>city</th>\n",
       "      <th>district</th>\n",
       "      <th>job_description</th>\n",
       "      <th>descrimination_content</th>\n",
       "      <th>job_type</th>\n",
       "      <th>keywords</th>\n",
       "      <th>company_type</th>\n",
       "      <th>company_size</th>\n",
       "    </tr>\n",
       "  </thead>\n",
       "  <tbody>\n",
       "    <tr>\n",
       "      <th>49</th>\n",
       "      <td>https://jobs.51job.com/qingyuan/123325172.html...</td>\n",
       "      <td>驻点物流服务员（双休）/五险一金0693 (职位编号：FESCOBPO000693)</td>\n",
       "      <td>3-4千/月</td>\n",
       "      <td>广州小蜜蜂生活服务有限责任公司</td>\n",
       "      <td>清远</td>\n",
       "      <td>清远</td>\n",
       "      <td>[1. 按照 GSP 及相关法规要求，严格执行院内物流服务管理标准与规范，完成商品收货、上架...</td>\n",
       "      <td>1. 高中及以上学历，药学或相关专业、1 年或者以上药品保管相关工作经验，男生优先考虑；</td>\n",
       "      <td>[药库主任/药剂师, 其他]</td>\n",
       "      <td>[GSP, 药品, 医院, 物流, 做五休二]</td>\n",
       "      <td>国企</td>\n",
       "      <td>1000-5000人</td>\n",
       "    </tr>\n",
       "    <tr>\n",
       "      <th>82</th>\n",
       "      <td>https://jobs.51job.com/shenzhen-ftq/91233812.h...</td>\n",
       "      <td>值班管控员（深圳）</td>\n",
       "      <td>3-4.5千/月</td>\n",
       "      <td>广东海格怡创科技有限公司</td>\n",
       "      <td>深圳</td>\n",
       "      <td>福田区</td>\n",
       "      <td>[值班管控员, 要求：大专以上学历，熟悉电脑及办公软件, 工作内容：, 1、 实行7*24小...</td>\n",
       "      <td>6、男生优先</td>\n",
       "      <td>[无线通信工程师]</td>\n",
       "      <td>[]</td>\n",
       "      <td>国企</td>\n",
       "      <td>1000-5000人</td>\n",
       "    </tr>\n",
       "    <tr>\n",
       "      <th>118</th>\n",
       "      <td>https://jobs.51job.com/wuhan/119006620.html?s=...</td>\n",
       "      <td>产品技术员（面板厂测试整合）</td>\n",
       "      <td>4-6千/月</td>\n",
       "      <td>天马微电子股份有限公司</td>\n",
       "      <td>武汉</td>\n",
       "      <td>武汉</td>\n",
       "      <td>[1.日常产品缺陷判定，异常反馈，现场产品异常处理, 2.AOI不良判定+点灯机（显示不均、...</td>\n",
       "      <td>1.大专及以上学历，能适应倒夜班和无尘室，男生优先</td>\n",
       "      <td>[技工]</td>\n",
       "      <td>[PI, 产品异常处理]</td>\n",
       "      <td>国企</td>\n",
       "      <td>10000人以上</td>\n",
       "    </tr>\n",
       "    <tr>\n",
       "      <th>127</th>\n",
       "      <td>https://jobs.51job.com/jinhua/80195034.html?s=...</td>\n",
       "      <td>期货研究（金华营业部）</td>\n",
       "      <td>3-4千/月</td>\n",
       "      <td>浙商期货有限公司</td>\n",
       "      <td>金华</td>\n",
       "      <td>金华</td>\n",
       "      <td>[岗位职责：, 1、 负责品种研究、市场开发、客户日常服务工作；, 2、进行行情分析、各品种...</td>\n",
       "      <td>1、 全日制本科及以上学历，男生优先，市场营销、金融等专业优先考虑</td>\n",
       "      <td>[金融/经济研究员]</td>\n",
       "      <td>[]</td>\n",
       "      <td>国企</td>\n",
       "      <td>500-1000人</td>\n",
       "    </tr>\n",
       "    <tr>\n",
       "      <th>128</th>\n",
       "      <td>https://jobs.51job.com/suzhou-gxq/121009134.ht...</td>\n",
       "      <td>办公室文员（应届毕业生优先）</td>\n",
       "      <td>3-4.5千/月</td>\n",
       "      <td>苏州市玉屏客舍会议中心有限公司</td>\n",
       "      <td>苏州</td>\n",
       "      <td>高新区</td>\n",
       "      <td>[1.有良好的写作功底，善于写作、过硬的文字驾驭能力。（***学历本科，文科生）, 2.逻辑...</td>\n",
       "      <td>5.应届毕业生。（本地男生优先）</td>\n",
       "      <td>[其他, 行政/后勤]</td>\n",
       "      <td>[]</td>\n",
       "      <td>国企</td>\n",
       "      <td>150-500人</td>\n",
       "    </tr>\n",
       "    <tr>\n",
       "      <th>131</th>\n",
       "      <td>https://jobs.51job.com/shanghai/119965796.html...</td>\n",
       "      <td>债券融资总部-资本市场部业务支持（上海）</td>\n",
       "      <td>None</td>\n",
       "      <td>海通证券全国总部</td>\n",
       "      <td>上海</td>\n",
       "      <td>上海</td>\n",
       "      <td>[主要职责, 1、股权及债券项目发行，包括发行前备案、公告材料的审核及其他发行相关工作；, ...</td>\n",
       "      <td>3、有CFA、CPA、律师从业资格证者优先，男生优先；</td>\n",
       "      <td>[其他]</td>\n",
       "      <td>[]</td>\n",
       "      <td>国企</td>\n",
       "      <td>500-1000人</td>\n",
       "    </tr>\n",
       "    <tr>\n",
       "      <th>161</th>\n",
       "      <td>https://jobs.51job.com/hangzhou-jgq/68483924.h...</td>\n",
       "      <td>国际业务内勤</td>\n",
       "      <td>10-15万/年</td>\n",
       "      <td>中航国际矿产资源有限公司</td>\n",
       "      <td>杭州</td>\n",
       "      <td>江干区</td>\n",
       "      <td>[1、国贸或英语等相关专业本科及以上学历，CET-6  550分以上；, 2、熟练的英文水平...</td>\n",
       "      <td>4、男生优先，理工科等相关专业本科及以上学历；</td>\n",
       "      <td>[商务助理]</td>\n",
       "      <td>[周末双休, 带薪年假]</td>\n",
       "      <td>国企</td>\n",
       "      <td>50-150人</td>\n",
       "    </tr>\n",
       "    <tr>\n",
       "      <th>164</th>\n",
       "      <td>https://jobs.51job.com/shenzhen/122800177.html...</td>\n",
       "      <td>行政专员</td>\n",
       "      <td>6-8千/月</td>\n",
       "      <td>中建科技（深汕特别合作区）有限公司</td>\n",
       "      <td>深圳</td>\n",
       "      <td>深圳</td>\n",
       "      <td>[1.后勤保障工作（宿舍、食堂、车辆、环境卫生等维护及管理）；, 2.负责公司行政资产管理及...</td>\n",
       "      <td>4.男生优先，优秀应届生亦可培养。</td>\n",
       "      <td>[行政专员/助理, 后勤]</td>\n",
       "      <td>[行政专员, 后勤]</td>\n",
       "      <td>国企</td>\n",
       "      <td>150-500人</td>\n",
       "    </tr>\n",
       "    <tr>\n",
       "      <th>175</th>\n",
       "      <td>https://jobs.51job.com/shenzhen-lhxq/122361983...</td>\n",
       "      <td>养护员</td>\n",
       "      <td>6-8千/月</td>\n",
       "      <td>深圳北京同仁堂上城药店有限责任公司</td>\n",
       "      <td>深圳</td>\n",
       "      <td>龙华新区</td>\n",
       "      <td>[1、根据药品质量特性、库房条件和外部环境，按照养护标准操作规程，负责药品在库检查、养护工作...</td>\n",
       "      <td>4、男生优先</td>\n",
       "      <td>[药品生产/质量管理]</td>\n",
       "      <td>[]</td>\n",
       "      <td>国企</td>\n",
       "      <td>500-1000人</td>\n",
       "    </tr>\n",
       "    <tr>\n",
       "      <th>176</th>\n",
       "      <td>https://jobs.51job.com/chongqing-spbq/12291525...</td>\n",
       "      <td>给排水/环境工程设计工程师—城环分院</td>\n",
       "      <td>5-7千/月</td>\n",
       "      <td>重庆大学建筑规划设计研究总院有限公司</td>\n",
       "      <td>重庆</td>\n",
       "      <td>沙坪坝区</td>\n",
       "      <td>[1、 参与工程项目的咨询、设计等工作；, 2、 参与科技项目申报、孵化和运营。, ：, 1...</td>\n",
       "      <td>男生优先；</td>\n",
       "      <td>[给排水设计]</td>\n",
       "      <td>[]</td>\n",
       "      <td>国企</td>\n",
       "      <td>150-500人</td>\n",
       "    </tr>\n",
       "    <tr>\n",
       "      <th>181</th>\n",
       "      <td>https://jobs.51job.com/shanghai-hpq/121864764....</td>\n",
       "      <td>市场部实习生</td>\n",
       "      <td>3-4.5千/月</td>\n",
       "      <td>光明食品国际贸易（上海）有限公司</td>\n",
       "      <td>上海</td>\n",
       "      <td>黄浦区</td>\n",
       "      <td>[任职要求：, 1.大学专科或以上学历在读,大三学生优先考虑, 2.一周到岗时间保证3天或以...</td>\n",
       "      <td>6.男生优先</td>\n",
       "      <td>[市场助理]</td>\n",
       "      <td>[]</td>\n",
       "      <td>国企</td>\n",
       "      <td>50-150人</td>\n",
       "    </tr>\n",
       "    <tr>\n",
       "      <th>193</th>\n",
       "      <td>https://jobs.51job.com/nanjing/117635726.html?...</td>\n",
       "      <td>高分子材料助理工程师</td>\n",
       "      <td>6-10万/年</td>\n",
       "      <td>江苏集萃先进高分子材料研究所有限公司</td>\n",
       "      <td>南京</td>\n",
       "      <td>南京</td>\n",
       "      <td>[1、协助研发工程师进行实验的开展、材料性能测试。, 2、协助研发工程师进行小试、中试生产的...</td>\n",
       "      <td>1、本科及以上学历，男生优先，具备高分子材料专业相关背景，应届生或1-2年工作经历均可。</td>\n",
       "      <td>[塑料工程师]</td>\n",
       "      <td>[]</td>\n",
       "      <td>事业单位</td>\n",
       "      <td>150-500人</td>\n",
       "    </tr>\n",
       "    <tr>\n",
       "      <th>259</th>\n",
       "      <td>https://jobs.51job.com/wuhan/123045046.html?s=...</td>\n",
       "      <td>花卉园艺师 (职位编号：东西湖)</td>\n",
       "      <td>None</td>\n",
       "      <td>武汉花乡茶谷旅游度假有限公司</td>\n",
       "      <td>武汉</td>\n",
       "      <td>武汉</td>\n",
       "      <td>[1、园林植物与观赏园艺、园林等相关专业本科及以上学历；, 2、熟悉花卉习性，懂得花卉种植及...</td>\n",
       "      <td>6、男生优先。</td>\n",
       "      <td>[其他]</td>\n",
       "      <td>[]</td>\n",
       "      <td>政府机关</td>\n",
       "      <td>None</td>\n",
       "    </tr>\n",
       "    <tr>\n",
       "      <th>283</th>\n",
       "      <td>https://jobs.51job.com/nanjing/122675705.html?...</td>\n",
       "      <td>业务助理</td>\n",
       "      <td>3-4.5千/月</td>\n",
       "      <td>江苏苏豪国际集团股份有限公司</td>\n",
       "      <td>南京</td>\n",
       "      <td>南京</td>\n",
       "      <td>[大学本科，应届。英语、纺织或国贸专业，吃苦耐劳，善于沟通，能适应高频率的出差和加班.男生优先]</td>\n",
       "      <td>大学本科，应届。英语、纺织或国贸专业，吃苦耐劳，善于沟通，能适应高频率的出差和加班.男生优先</td>\n",
       "      <td>[贸易/外贸专员/助理]</td>\n",
       "      <td>[]</td>\n",
       "      <td>国企</td>\n",
       "      <td>500-1000人</td>\n",
       "    </tr>\n",
       "    <tr>\n",
       "      <th>300</th>\n",
       "      <td>https://jobs.51job.com/chuzhou/122295410.html?...</td>\n",
       "      <td>电商售后客服(综合月薪4500）</td>\n",
       "      <td>5-6万/年</td>\n",
       "      <td>安徽康佳同创电器有限公司</td>\n",
       "      <td>滁州</td>\n",
       "      <td>滁州</td>\n",
       "      <td>[1、通过电话、在线聊天工具等方式解决产品售后咨询服务工作，了解客户需求，准确记录客户信息并...</td>\n",
       "      <td>1、男生优先考虑，女生可接受晚班（12:00-21:00）的亦可，大专及以上学历，会使用wo...</td>\n",
       "      <td>[网店客服, 网络/在线客服]</td>\n",
       "      <td>[销售经理]</td>\n",
       "      <td>国企</td>\n",
       "      <td>1000-5000人</td>\n",
       "    </tr>\n",
       "    <tr>\n",
       "      <th>305</th>\n",
       "      <td>https://jobs.51job.com/guangzhou-hzq/119540950...</td>\n",
       "      <td>行政文秘/法务助理</td>\n",
       "      <td>6-7千/月</td>\n",
       "      <td>广东南油对外服务有限公司</td>\n",
       "      <td>广州</td>\n",
       "      <td>海珠区</td>\n",
       "      <td>[1、负责起草公司各类公文、总结、报告；, 2、各类文件的签收、登记、呈批、分送；, 3、协...</td>\n",
       "      <td>1、本科及以上学历，1-2年工作经验，法学专业优先，男生优先考虑</td>\n",
       "      <td>[法务助理, 总裁助理/总经理助理]</td>\n",
       "      <td>[法务, 法律, 合同审核, 秘书, 行政, 总经理助理, 文员]</td>\n",
       "      <td>国企</td>\n",
       "      <td>150-500人</td>\n",
       "    </tr>\n",
       "    <tr>\n",
       "      <th>314</th>\n",
       "      <td>https://jobs.51job.com/shanghai-fxq/119670697....</td>\n",
       "      <td>行政专员</td>\n",
       "      <td>6-7千/月</td>\n",
       "      <td>中车城市交通有限公司</td>\n",
       "      <td>上海</td>\n",
       "      <td>奉贤区</td>\n",
       "      <td>[1, 、负责起草公司的综合性计划、总结和工作报告并负责文件的收发、流转、传阅等工作；, 、...</td>\n",
       "      <td>1 .全日制本科以上学历，男生优先；</td>\n",
       "      <td>[行政专员/助理]</td>\n",
       "      <td>[行政专员]</td>\n",
       "      <td>国企</td>\n",
       "      <td>150-500人</td>\n",
       "    </tr>\n",
       "    <tr>\n",
       "      <th>352</th>\n",
       "      <td>https://jobs.51job.com/beijing/119965849.html?...</td>\n",
       "      <td>债券融资总部-资本市场部业务支持（北京）</td>\n",
       "      <td>None</td>\n",
       "      <td>海通证券全国总部</td>\n",
       "      <td>北京</td>\n",
       "      <td>北京</td>\n",
       "      <td>[主要职责, 1、股权及债券项目发行，包括发行前备案、公告材料的审核及其他发行相关工作；, ...</td>\n",
       "      <td>3、有CFA、CPA、律师从业资格证者优先，男生优先；</td>\n",
       "      <td>[其他]</td>\n",
       "      <td>[]</td>\n",
       "      <td>国企</td>\n",
       "      <td>500-1000人</td>\n",
       "    </tr>\n",
       "    <tr>\n",
       "      <th>359</th>\n",
       "      <td>https://jobs.51job.com/shanghai-hpq/117660290....</td>\n",
       "      <td>市场专员</td>\n",
       "      <td>5-8千/月</td>\n",
       "      <td>光明食品国际贸易（上海）有限公司</td>\n",
       "      <td>上海</td>\n",
       "      <td>黄浦区</td>\n",
       "      <td>[岗位职责, 1.公司品牌推广，协助上级做好公司各部门之间的协调工作。, 2.公司参与的展会...</td>\n",
       "      <td>1、本科及以上学历，35岁以下，男生优先；</td>\n",
       "      <td>[市场/营销/拓展专员]</td>\n",
       "      <td>[市场专员]</td>\n",
       "      <td>国企</td>\n",
       "      <td>50-150人</td>\n",
       "    </tr>\n",
       "    <tr>\n",
       "      <th>364</th>\n",
       "      <td>https://jobs.51job.com/wuhan-hsq/122783391.htm...</td>\n",
       "      <td>产销规划专员/师</td>\n",
       "      <td>0.8-1万/月</td>\n",
       "      <td>天马微电子股份有限公司</td>\n",
       "      <td>武汉</td>\n",
       "      <td>洪山区</td>\n",
       "      <td>[1、负责M+3+9产能规划，确保产能***化利用；, 2、识别M+3+9供需匹配风险，制定...</td>\n",
       "      <td>5、有较好抗压力、应变力和较强的执行力（男生优先）；</td>\n",
       "      <td>[营运主管, 生产计划/物料管理(PMC)]</td>\n",
       "      <td>[]</td>\n",
       "      <td>国企</td>\n",
       "      <td>10000人以上</td>\n",
       "    </tr>\n",
       "    <tr>\n",
       "      <th>417</th>\n",
       "      <td>https://jobs.51job.com/hubeisheng/120036493.ht...</td>\n",
       "      <td>项目综合办公室综合管理员</td>\n",
       "      <td>4.5-6千/月</td>\n",
       "      <td>中国建筑第七工程局有限公司福建分公司</td>\n",
       "      <td>湖北省</td>\n",
       "      <td>湖北省</td>\n",
       "      <td>[（1）任职要求：, 全日制大专及以上学历，行政管理、人力资源管理等相关专业；, 持中级及以...</td>\n",
       "      <td>身高要求： 男生170CM  男生优先。</td>\n",
       "      <td>[后勤]</td>\n",
       "      <td>[]</td>\n",
       "      <td>国企</td>\n",
       "      <td>1000-5000人</td>\n",
       "    </tr>\n",
       "    <tr>\n",
       "      <th>418</th>\n",
       "      <td>https://jobs.51job.com/beijing-syq/122428503.h...</td>\n",
       "      <td>行政秘书（管培生）</td>\n",
       "      <td>6-8千/月</td>\n",
       "      <td>北京城建北方集团有限公司</td>\n",
       "      <td>北京</td>\n",
       "      <td>顺义区</td>\n",
       "      <td>[2020, 年全日制非定向应届毕业生，本科及以上学历，文史类专业；, 认同北京城建北方集团...</td>\n",
       "      <td>五官端正，形象气质佳，男生优先考虑。</td>\n",
       "      <td>[经理助理/秘书]</td>\n",
       "      <td>[秘书, 宣传, 行政, 助理]</td>\n",
       "      <td>国企</td>\n",
       "      <td>500-1000人</td>\n",
       "    </tr>\n",
       "    <tr>\n",
       "      <th>423</th>\n",
       "      <td>https://jobs.51job.com/changsha/114919599.html...</td>\n",
       "      <td>储备销售主管</td>\n",
       "      <td>3.5-6千/月</td>\n",
       "      <td>长沙金果百货有限责任公司</td>\n",
       "      <td>长沙</td>\n",
       "      <td>长沙</td>\n",
       "      <td>[从销售工作做起，熟悉公司产品及业务，努力完成月度季度年度的业绩目标；开拓市场，拓宽销售渠道...</td>\n",
       "      <td>7.30岁以内，男生优先</td>\n",
       "      <td>[销售主管]</td>\n",
       "      <td>[销售代表, 储备主管]</td>\n",
       "      <td>国企</td>\n",
       "      <td>150-500人</td>\n",
       "    </tr>\n",
       "    <tr>\n",
       "      <th>425</th>\n",
       "      <td>https://jobs.51job.com/nanchang/77192264.html?...</td>\n",
       "      <td>园林施工员</td>\n",
       "      <td>4.5-6千/月</td>\n",
       "      <td>江西中煤建设集团有限公司</td>\n",
       "      <td>南昌</td>\n",
       "      <td>南昌</td>\n",
       "      <td>[本科及以上学历，通过大学英语四级，男生优先；, 要求熟练掌握和使用PTK、全站仪操作，能灵...</td>\n",
       "      <td>本科及以上学历，通过大学英语四级，男生优先；</td>\n",
       "      <td>[园艺/园林/景观设计]</td>\n",
       "      <td>[市政园林施工员]</td>\n",
       "      <td>国企</td>\n",
       "      <td>10000人以上</td>\n",
       "    </tr>\n",
       "  </tbody>\n",
       "</table>\n",
       "</div>"
      ],
      "text/plain": [
       "                                                   url  \\\n",
       "49   https://jobs.51job.com/qingyuan/123325172.html...   \n",
       "82   https://jobs.51job.com/shenzhen-ftq/91233812.h...   \n",
       "118  https://jobs.51job.com/wuhan/119006620.html?s=...   \n",
       "127  https://jobs.51job.com/jinhua/80195034.html?s=...   \n",
       "128  https://jobs.51job.com/suzhou-gxq/121009134.ht...   \n",
       "131  https://jobs.51job.com/shanghai/119965796.html...   \n",
       "161  https://jobs.51job.com/hangzhou-jgq/68483924.h...   \n",
       "164  https://jobs.51job.com/shenzhen/122800177.html...   \n",
       "175  https://jobs.51job.com/shenzhen-lhxq/122361983...   \n",
       "176  https://jobs.51job.com/chongqing-spbq/12291525...   \n",
       "181  https://jobs.51job.com/shanghai-hpq/121864764....   \n",
       "193  https://jobs.51job.com/nanjing/117635726.html?...   \n",
       "259  https://jobs.51job.com/wuhan/123045046.html?s=...   \n",
       "283  https://jobs.51job.com/nanjing/122675705.html?...   \n",
       "300  https://jobs.51job.com/chuzhou/122295410.html?...   \n",
       "305  https://jobs.51job.com/guangzhou-hzq/119540950...   \n",
       "314  https://jobs.51job.com/shanghai-fxq/119670697....   \n",
       "352  https://jobs.51job.com/beijing/119965849.html?...   \n",
       "359  https://jobs.51job.com/shanghai-hpq/117660290....   \n",
       "364  https://jobs.51job.com/wuhan-hsq/122783391.htm...   \n",
       "417  https://jobs.51job.com/hubeisheng/120036493.ht...   \n",
       "418  https://jobs.51job.com/beijing-syq/122428503.h...   \n",
       "423  https://jobs.51job.com/changsha/114919599.html...   \n",
       "425  https://jobs.51job.com/nanchang/77192264.html?...   \n",
       "\n",
       "                                      job_title salary_range  \\\n",
       "49   驻点物流服务员（双休）/五险一金0693 (职位编号：FESCOBPO000693)       3-4千/月   \n",
       "82                                    值班管控员（深圳）     3-4.5千/月   \n",
       "118                              产品技术员（面板厂测试整合）       4-6千/月   \n",
       "127                                 期货研究（金华营业部）       3-4千/月   \n",
       "128                              办公室文员（应届毕业生优先）     3-4.5千/月   \n",
       "131                        债券融资总部-资本市场部业务支持（上海）         None   \n",
       "161                                      国际业务内勤     10-15万/年   \n",
       "164                                        行政专员       6-8千/月   \n",
       "175                                         养护员       6-8千/月   \n",
       "176                          给排水/环境工程设计工程师—城环分院       5-7千/月   \n",
       "181                                      市场部实习生     3-4.5千/月   \n",
       "193                                  高分子材料助理工程师      6-10万/年   \n",
       "259                            花卉园艺师 (职位编号：东西湖)         None   \n",
       "283                                        业务助理     3-4.5千/月   \n",
       "300                            电商售后客服(综合月薪4500）       5-6万/年   \n",
       "305                                   行政文秘/法务助理       6-7千/月   \n",
       "314                                        行政专员       6-7千/月   \n",
       "352                        债券融资总部-资本市场部业务支持（北京）         None   \n",
       "359                                        市场专员       5-8千/月   \n",
       "364                                    产销规划专员/师     0.8-1万/月   \n",
       "417                                项目综合办公室综合管理员     4.5-6千/月   \n",
       "418                                   行政秘书（管培生）       6-8千/月   \n",
       "423                                      储备销售主管     3.5-6千/月   \n",
       "425                                       园林施工员     4.5-6千/月   \n",
       "\n",
       "           company_name city district  \\\n",
       "49      广州小蜜蜂生活服务有限责任公司   清远       清远   \n",
       "82         广东海格怡创科技有限公司   深圳      福田区   \n",
       "118         天马微电子股份有限公司   武汉       武汉   \n",
       "127            浙商期货有限公司   金华       金华   \n",
       "128     苏州市玉屏客舍会议中心有限公司   苏州      高新区   \n",
       "131            海通证券全国总部   上海       上海   \n",
       "161        中航国际矿产资源有限公司   杭州      江干区   \n",
       "164   中建科技（深汕特别合作区）有限公司   深圳       深圳   \n",
       "175   深圳北京同仁堂上城药店有限责任公司   深圳     龙华新区   \n",
       "176  重庆大学建筑规划设计研究总院有限公司   重庆     沙坪坝区   \n",
       "181    光明食品国际贸易（上海）有限公司   上海      黄浦区   \n",
       "193  江苏集萃先进高分子材料研究所有限公司   南京       南京   \n",
       "259      武汉花乡茶谷旅游度假有限公司   武汉       武汉   \n",
       "283      江苏苏豪国际集团股份有限公司   南京       南京   \n",
       "300        安徽康佳同创电器有限公司   滁州       滁州   \n",
       "305        广东南油对外服务有限公司   广州      海珠区   \n",
       "314          中车城市交通有限公司   上海      奉贤区   \n",
       "352            海通证券全国总部   北京       北京   \n",
       "359    光明食品国际贸易（上海）有限公司   上海      黄浦区   \n",
       "364         天马微电子股份有限公司   武汉      洪山区   \n",
       "417  中国建筑第七工程局有限公司福建分公司  湖北省      湖北省   \n",
       "418        北京城建北方集团有限公司   北京      顺义区   \n",
       "423        长沙金果百货有限责任公司   长沙       长沙   \n",
       "425        江西中煤建设集团有限公司   南昌       南昌   \n",
       "\n",
       "                                       job_description  \\\n",
       "49   [1. 按照 GSP 及相关法规要求，严格执行院内物流服务管理标准与规范，完成商品收货、上架...   \n",
       "82   [值班管控员, 要求：大专以上学历，熟悉电脑及办公软件, 工作内容：, 1、 实行7*24小...   \n",
       "118  [1.日常产品缺陷判定，异常反馈，现场产品异常处理, 2.AOI不良判定+点灯机（显示不均、...   \n",
       "127  [岗位职责：, 1、 负责品种研究、市场开发、客户日常服务工作；, 2、进行行情分析、各品种...   \n",
       "128  [1.有良好的写作功底，善于写作、过硬的文字驾驭能力。（***学历本科，文科生）, 2.逻辑...   \n",
       "131  [主要职责, 1、股权及债券项目发行，包括发行前备案、公告材料的审核及其他发行相关工作；, ...   \n",
       "161  [1、国贸或英语等相关专业本科及以上学历，CET-6  550分以上；, 2、熟练的英文水平...   \n",
       "164  [1.后勤保障工作（宿舍、食堂、车辆、环境卫生等维护及管理）；, 2.负责公司行政资产管理及...   \n",
       "175  [1、根据药品质量特性、库房条件和外部环境，按照养护标准操作规程，负责药品在库检查、养护工作...   \n",
       "176  [1、 参与工程项目的咨询、设计等工作；, 2、 参与科技项目申报、孵化和运营。, ：, 1...   \n",
       "181  [任职要求：, 1.大学专科或以上学历在读,大三学生优先考虑, 2.一周到岗时间保证3天或以...   \n",
       "193  [1、协助研发工程师进行实验的开展、材料性能测试。, 2、协助研发工程师进行小试、中试生产的...   \n",
       "259  [1、园林植物与观赏园艺、园林等相关专业本科及以上学历；, 2、熟悉花卉习性，懂得花卉种植及...   \n",
       "283   [大学本科，应届。英语、纺织或国贸专业，吃苦耐劳，善于沟通，能适应高频率的出差和加班.男生优先]   \n",
       "300  [1、通过电话、在线聊天工具等方式解决产品售后咨询服务工作，了解客户需求，准确记录客户信息并...   \n",
       "305  [1、负责起草公司各类公文、总结、报告；, 2、各类文件的签收、登记、呈批、分送；, 3、协...   \n",
       "314  [1, 、负责起草公司的综合性计划、总结和工作报告并负责文件的收发、流转、传阅等工作；, 、...   \n",
       "352  [主要职责, 1、股权及债券项目发行，包括发行前备案、公告材料的审核及其他发行相关工作；, ...   \n",
       "359  [岗位职责, 1.公司品牌推广，协助上级做好公司各部门之间的协调工作。, 2.公司参与的展会...   \n",
       "364  [1、负责M+3+9产能规划，确保产能***化利用；, 2、识别M+3+9供需匹配风险，制定...   \n",
       "417  [（1）任职要求：, 全日制大专及以上学历，行政管理、人力资源管理等相关专业；, 持中级及以...   \n",
       "418  [2020, 年全日制非定向应届毕业生，本科及以上学历，文史类专业；, 认同北京城建北方集团...   \n",
       "423  [从销售工作做起，熟悉公司产品及业务，努力完成月度季度年度的业绩目标；开拓市场，拓宽销售渠道...   \n",
       "425  [本科及以上学历，通过大学英语四级，男生优先；, 要求熟练掌握和使用PTK、全站仪操作，能灵...   \n",
       "\n",
       "                                descrimination_content  \\\n",
       "49        1. 高中及以上学历，药学或相关专业、1 年或者以上药品保管相关工作经验，男生优先考虑；   \n",
       "82                                              6、男生优先   \n",
       "118                          1.大专及以上学历，能适应倒夜班和无尘室，男生优先   \n",
       "127                  1、 全日制本科及以上学历，男生优先，市场营销、金融等专业优先考虑   \n",
       "128                                   5.应届毕业生。（本地男生优先）   \n",
       "131                        3、有CFA、CPA、律师从业资格证者优先，男生优先；   \n",
       "161                            4、男生优先，理工科等相关专业本科及以上学历；   \n",
       "164                                  4.男生优先，优秀应届生亦可培养。   \n",
       "175                                             4、男生优先   \n",
       "176                                              男生优先；   \n",
       "181                                             6.男生优先   \n",
       "193       1、本科及以上学历，男生优先，具备高分子材料专业相关背景，应届生或1-2年工作经历均可。   \n",
       "259                                            6、男生优先。   \n",
       "283     大学本科，应届。英语、纺织或国贸专业，吃苦耐劳，善于沟通，能适应高频率的出差和加班.男生优先   \n",
       "300  1、男生优先考虑，女生可接受晚班（12:00-21:00）的亦可，大专及以上学历，会使用wo...   \n",
       "305                   1、本科及以上学历，1-2年工作经验，法学专业优先，男生优先考虑   \n",
       "314                                 1 .全日制本科以上学历，男生优先；   \n",
       "352                        3、有CFA、CPA、律师从业资格证者优先，男生优先；   \n",
       "359                              1、本科及以上学历，35岁以下，男生优先；   \n",
       "364                         5、有较好抗压力、应变力和较强的执行力（男生优先）；   \n",
       "417                               身高要求： 男生170CM  男生优先。   \n",
       "418                                 五官端正，形象气质佳，男生优先考虑。   \n",
       "423                                       7.30岁以内，男生优先   \n",
       "425                             本科及以上学历，通过大学英语四级，男生优先；   \n",
       "\n",
       "                   job_type                           keywords company_type  \\\n",
       "49           [药库主任/药剂师, 其他]            [GSP, 药品, 医院, 物流, 做五休二]           国企   \n",
       "82                [无线通信工程师]                                 []           国企   \n",
       "118                    [技工]                       [PI, 产品异常处理]           国企   \n",
       "127              [金融/经济研究员]                                 []           国企   \n",
       "128             [其他, 行政/后勤]                                 []           国企   \n",
       "131                    [其他]                                 []           国企   \n",
       "161                  [商务助理]                       [周末双休, 带薪年假]           国企   \n",
       "164           [行政专员/助理, 后勤]                         [行政专员, 后勤]           国企   \n",
       "175             [药品生产/质量管理]                                 []           国企   \n",
       "176                 [给排水设计]                                 []           国企   \n",
       "181                  [市场助理]                                 []           国企   \n",
       "193                 [塑料工程师]                                 []         事业单位   \n",
       "259                    [其他]                                 []         政府机关   \n",
       "283            [贸易/外贸专员/助理]                                 []           国企   \n",
       "300         [网店客服, 网络/在线客服]                             [销售经理]           国企   \n",
       "305      [法务助理, 总裁助理/总经理助理]  [法务, 法律, 合同审核, 秘书, 行政, 总经理助理, 文员]           国企   \n",
       "314               [行政专员/助理]                             [行政专员]           国企   \n",
       "352                    [其他]                                 []           国企   \n",
       "359            [市场/营销/拓展专员]                             [市场专员]           国企   \n",
       "364  [营运主管, 生产计划/物料管理(PMC)]                                 []           国企   \n",
       "417                    [后勤]                                 []           国企   \n",
       "418               [经理助理/秘书]                   [秘书, 宣传, 行政, 助理]           国企   \n",
       "423                  [销售主管]                       [销售代表, 储备主管]           国企   \n",
       "425            [园艺/园林/景观设计]                          [市政园林施工员]           国企   \n",
       "\n",
       "    company_size  \n",
       "49    1000-5000人  \n",
       "82    1000-5000人  \n",
       "118     10000人以上  \n",
       "127    500-1000人  \n",
       "128     150-500人  \n",
       "131    500-1000人  \n",
       "161      50-150人  \n",
       "164     150-500人  \n",
       "175    500-1000人  \n",
       "176     150-500人  \n",
       "181      50-150人  \n",
       "193     150-500人  \n",
       "259         None  \n",
       "283    500-1000人  \n",
       "300   1000-5000人  \n",
       "305     150-500人  \n",
       "314     150-500人  \n",
       "352    500-1000人  \n",
       "359      50-150人  \n",
       "364     10000人以上  \n",
       "417   1000-5000人  \n",
       "418    500-1000人  \n",
       "423     150-500人  \n",
       "425     10000人以上  "
      ]
     },
     "execution_count": 39,
     "metadata": {},
     "output_type": "execute_result"
    }
   ],
   "source": [
    "wuyi_job_male_df[wuyi_job_male_df[\"company_type\"].isin([\"事业单位\", \"政府机关\", \"国企\"])]"
   ]
  },
  {
   "cell_type": "code",
   "execution_count": 33,
   "metadata": {},
   "outputs": [
    {
     "data": {
      "text/html": [
       "<div>\n",
       "<style scoped>\n",
       "    .dataframe tbody tr th:only-of-type {\n",
       "        vertical-align: middle;\n",
       "    }\n",
       "\n",
       "    .dataframe tbody tr th {\n",
       "        vertical-align: top;\n",
       "    }\n",
       "\n",
       "    .dataframe thead th {\n",
       "        text-align: right;\n",
       "    }\n",
       "</style>\n",
       "<table border=\"1\" class=\"dataframe\">\n",
       "  <thead>\n",
       "    <tr style=\"text-align: right;\">\n",
       "      <th></th>\n",
       "      <th>url</th>\n",
       "      <th>job_title</th>\n",
       "      <th>salary_range</th>\n",
       "      <th>company_name</th>\n",
       "      <th>city</th>\n",
       "      <th>district</th>\n",
       "      <th>job_description</th>\n",
       "      <th>descrimination_content</th>\n",
       "      <th>job_type</th>\n",
       "      <th>keywords</th>\n",
       "      <th>company_type</th>\n",
       "      <th>company_size</th>\n",
       "    </tr>\n",
       "  </thead>\n",
       "  <tbody>\n",
       "    <tr>\n",
       "      <th>92</th>\n",
       "      <td>https://jobs.51job.com/chengdu-pdq/121267375.h...</td>\n",
       "      <td>阿迪达斯成都龙湖折扣店员 (职位编号：005020)</td>\n",
       "      <td>4.5-6千/月</td>\n",
       "      <td>阿迪达斯体育（中国）有限公司</td>\n",
       "      <td>成都</td>\n",
       "      <td>郫都区</td>\n",
       "      <td>[欢迎加入阿迪达斯直营零售店！, 岗位职责：, 1、\\t积极主动帮助店铺达成销售指标, 2、...</td>\n",
       "      <td>1、\\t18-30周岁，高中或以上同等学历（男生优先）</td>\n",
       "      <td>[店员/营业员]</td>\n",
       "      <td>[]</td>\n",
       "      <td>外资（欧美）</td>\n",
       "      <td>500-1000人</td>\n",
       "    </tr>\n",
       "    <tr>\n",
       "      <th>109</th>\n",
       "      <td>https://jobs.51job.com/suzhou-wjq/117235423.ht...</td>\n",
       "      <td>ERP实施顾问</td>\n",
       "      <td>5-8千/月</td>\n",
       "      <td>安信伟光（上海）木材有限公司</td>\n",
       "      <td>苏州</td>\n",
       "      <td>吴江区</td>\n",
       "      <td>[工作内容：, 1、集团软件的日常运营维护；新项目的实施；, 2、负责对各部门操作人员进行相...</td>\n",
       "      <td>3、男生优先；</td>\n",
       "      <td>[ERP实施顾问, ERP技术开发]</td>\n",
       "      <td>[ERP, 实施, 开发, 天心, 信息管理, 信息]</td>\n",
       "      <td>外资（欧美）</td>\n",
       "      <td>500-1000人</td>\n",
       "    </tr>\n",
       "    <tr>\n",
       "      <th>117</th>\n",
       "      <td>https://jobs.51job.com/wuxi-xsq/122371816.html...</td>\n",
       "      <td>销售部导购（自提区域）</td>\n",
       "      <td>None</td>\n",
       "      <td>宜家无锡商场</td>\n",
       "      <td>无锡</td>\n",
       "      <td>锡山区</td>\n",
       "      <td>[1. 热爱零售行业，有服务意识, 2. 需要在宜家自提区搬动货物，能够吃苦耐劳的男生优先考...</td>\n",
       "      <td>2. 需要在宜家自提区搬动货物，能够吃苦耐劳的男生优先考虑</td>\n",
       "      <td>[促销员/导购员]</td>\n",
       "      <td>[导购]</td>\n",
       "      <td>外资（欧美）</td>\n",
       "      <td>5000-10000人</td>\n",
       "    </tr>\n",
       "    <tr>\n",
       "      <th>191</th>\n",
       "      <td>https://jobs.51job.com/dongguan-sshq/104787254...</td>\n",
       "      <td>会议室管理员</td>\n",
       "      <td>4-4.5千/月</td>\n",
       "      <td>广州索迪斯管理服务有限公司</td>\n",
       "      <td>东莞</td>\n",
       "      <td>松山湖区</td>\n",
       "      <td>[1、会议室设备管理、布局规划、多媒体技术支持；, 2、根据客户情况安排会议室并提前进行会场...</td>\n",
       "      <td>1.大专学历，男生优先；</td>\n",
       "      <td>[行政专员/助理, 客服专员/助理]</td>\n",
       "      <td>[]</td>\n",
       "      <td>外资（欧美）</td>\n",
       "      <td>500-1000人</td>\n",
       "    </tr>\n",
       "  </tbody>\n",
       "</table>\n",
       "</div>"
      ],
      "text/plain": [
       "                                                   url  \\\n",
       "92   https://jobs.51job.com/chengdu-pdq/121267375.h...   \n",
       "109  https://jobs.51job.com/suzhou-wjq/117235423.ht...   \n",
       "117  https://jobs.51job.com/wuxi-xsq/122371816.html...   \n",
       "191  https://jobs.51job.com/dongguan-sshq/104787254...   \n",
       "\n",
       "                      job_title salary_range    company_name city district  \\\n",
       "92   阿迪达斯成都龙湖折扣店员 (职位编号：005020)     4.5-6千/月  阿迪达斯体育（中国）有限公司   成都      郫都区   \n",
       "109                     ERP实施顾问       5-8千/月  安信伟光（上海）木材有限公司   苏州      吴江区   \n",
       "117                 销售部导购（自提区域）         None          宜家无锡商场   无锡      锡山区   \n",
       "191                      会议室管理员     4-4.5千/月   广州索迪斯管理服务有限公司   东莞     松山湖区   \n",
       "\n",
       "                                       job_description  \\\n",
       "92   [欢迎加入阿迪达斯直营零售店！, 岗位职责：, 1、\\t积极主动帮助店铺达成销售指标, 2、...   \n",
       "109  [工作内容：, 1、集团软件的日常运营维护；新项目的实施；, 2、负责对各部门操作人员进行相...   \n",
       "117  [1. 热爱零售行业，有服务意识, 2. 需要在宜家自提区搬动货物，能够吃苦耐劳的男生优先考...   \n",
       "191  [1、会议室设备管理、布局规划、多媒体技术支持；, 2、根据客户情况安排会议室并提前进行会场...   \n",
       "\n",
       "            descrimination_content            job_type  \\\n",
       "92     1、\\t18-30周岁，高中或以上同等学历（男生优先）            [店员/营业员]   \n",
       "109                        3、男生优先；  [ERP实施顾问, ERP技术开发]   \n",
       "117  2. 需要在宜家自提区搬动货物，能够吃苦耐劳的男生优先考虑           [促销员/导购员]   \n",
       "191                   1.大专学历，男生优先；  [行政专员/助理, 客服专员/助理]   \n",
       "\n",
       "                        keywords company_type company_size  \n",
       "92                            []       外资（欧美）    500-1000人  \n",
       "109  [ERP, 实施, 开发, 天心, 信息管理, 信息]       外资（欧美）    500-1000人  \n",
       "117                         [导购]       外资（欧美）  5000-10000人  \n",
       "191                           []       外资（欧美）    500-1000人  "
      ]
     },
     "execution_count": 33,
     "metadata": {},
     "output_type": "execute_result"
    }
   ],
   "source": [
    "wuyi_job_male_df[wuyi_job_male_df[\"company_type\"]=='外资（欧美）'].head(5)"
   ]
  },
  {
   "cell_type": "code",
   "execution_count": 35,
   "metadata": {},
   "outputs": [
    {
     "data": {
      "text/plain": [
       "50-150人        138\n",
       "150-500人       104\n",
       "少于50人           84\n",
       "500-1000人       54\n",
       "1000-5000人      44\n",
       "10000人以上        10\n",
       "5000-10000人      5\n",
       "Name: company_size, dtype: int64"
      ]
     },
     "execution_count": 35,
     "metadata": {},
     "output_type": "execute_result"
    }
   ],
   "source": [
    "wuyi_job_male_df[\"company_size\"].value_counts()"
   ]
  },
  {
   "cell_type": "code",
   "execution_count": 38,
   "metadata": {},
   "outputs": [
    {
     "data": {
      "text/html": [
       "<div>\n",
       "<style scoped>\n",
       "    .dataframe tbody tr th:only-of-type {\n",
       "        vertical-align: middle;\n",
       "    }\n",
       "\n",
       "    .dataframe tbody tr th {\n",
       "        vertical-align: top;\n",
       "    }\n",
       "\n",
       "    .dataframe thead th {\n",
       "        text-align: right;\n",
       "    }\n",
       "</style>\n",
       "<table border=\"1\" class=\"dataframe\">\n",
       "  <thead>\n",
       "    <tr style=\"text-align: right;\">\n",
       "      <th></th>\n",
       "      <th>url</th>\n",
       "      <th>job_title</th>\n",
       "      <th>salary_range</th>\n",
       "      <th>company_name</th>\n",
       "      <th>city</th>\n",
       "      <th>district</th>\n",
       "      <th>job_description</th>\n",
       "      <th>descrimination_content</th>\n",
       "      <th>job_type</th>\n",
       "      <th>keywords</th>\n",
       "      <th>company_type</th>\n",
       "      <th>company_size</th>\n",
       "    </tr>\n",
       "  </thead>\n",
       "  <tbody>\n",
       "    <tr>\n",
       "      <th>106</th>\n",
       "      <td>https://jobs.51job.com/wuxi-yxs/94263880.html?...</td>\n",
       "      <td>市场营销主管/经理</td>\n",
       "      <td>10-15万/年</td>\n",
       "      <td>宜兴华地百货有限公司</td>\n",
       "      <td>无锡</td>\n",
       "      <td>宜兴市</td>\n",
       "      <td>[岗位要求：, 1）85年后出生，男生优先；, 2）全日制本科学历及以上，本科院校排名为国内...</td>\n",
       "      <td>1）85年后出生，男生优先；</td>\n",
       "      <td>[市场/营销/拓展主管, 市场企划经理/主管]</td>\n",
       "      <td>[高薪, 百货, 服装]</td>\n",
       "      <td>上市公司</td>\n",
       "      <td>10000人以上</td>\n",
       "    </tr>\n",
       "    <tr>\n",
       "      <th>118</th>\n",
       "      <td>https://jobs.51job.com/wuhan/119006620.html?s=...</td>\n",
       "      <td>产品技术员（面板厂测试整合）</td>\n",
       "      <td>4-6千/月</td>\n",
       "      <td>天马微电子股份有限公司</td>\n",
       "      <td>武汉</td>\n",
       "      <td>武汉</td>\n",
       "      <td>[1.日常产品缺陷判定，异常反馈，现场产品异常处理, 2.AOI不良判定+点灯机（显示不均、...</td>\n",
       "      <td>1.大专及以上学历，能适应倒夜班和无尘室，男生优先</td>\n",
       "      <td>[技工]</td>\n",
       "      <td>[PI, 产品异常处理]</td>\n",
       "      <td>国企</td>\n",
       "      <td>10000人以上</td>\n",
       "    </tr>\n",
       "    <tr>\n",
       "      <th>253</th>\n",
       "      <td>https://jobs.51job.com/xian-ytq/121745958.html...</td>\n",
       "      <td>E校招专员（贝壳直招+双休+五险一金）</td>\n",
       "      <td>0.8-1万/月</td>\n",
       "      <td>陕西贝壳闹海房地产经纪有限公司</td>\n",
       "      <td>西安</td>\n",
       "      <td>雁塔区</td>\n",
       "      <td>[校园BD-市场拓展 薪资6-8 学历 统招一本以上  男生优先, 职位描述：, 1、负责目...</td>\n",
       "      <td>校园BD-市场拓展 薪资6-8 学历 统招一本以上  男生优先</td>\n",
       "      <td>[招聘经理/主管, 招聘专员/助理]</td>\n",
       "      <td>[招聘专员, 招聘主管, 校招专员]</td>\n",
       "      <td>上市公司</td>\n",
       "      <td>10000人以上</td>\n",
       "    </tr>\n",
       "    <tr>\n",
       "      <th>256</th>\n",
       "      <td>https://jobs.51job.com/guangzhou-hdq/123104889...</td>\n",
       "      <td>市场营销实习生</td>\n",
       "      <td>2-3千/月</td>\n",
       "      <td>广州融创文旅城</td>\n",
       "      <td>广州</td>\n",
       "      <td>花都区</td>\n",
       "      <td>[工作内容：, 负责协助广州融创文旅城各类市场活动的策划与执行落地, 任职资格：, 大专以上...</td>\n",
       "      <td>大专以上学历在校学生，市场营销等相关专业，男生优先，需尽快到岗</td>\n",
       "      <td>[市场助理]</td>\n",
       "      <td>[]</td>\n",
       "      <td>上市公司</td>\n",
       "      <td>10000人以上</td>\n",
       "    </tr>\n",
       "    <tr>\n",
       "      <th>307</th>\n",
       "      <td>https://jobs.51job.com/xian-gxjs/120668741.htm...</td>\n",
       "      <td>商务渠道经理</td>\n",
       "      <td>4-6千/月</td>\n",
       "      <td>吉林万通药业集团药品经销有限公司</td>\n",
       "      <td>西安</td>\n",
       "      <td>高新技术产业开发区</td>\n",
       "      <td>[岗位职责, 1、中层管销售职位，负责其功能领域内主要目标和计划，制定、参与或协助上层执行相...</td>\n",
       "      <td>男生优先</td>\n",
       "      <td>[销售主管]</td>\n",
       "      <td>[渠道销售, 直销销售]</td>\n",
       "      <td>民营公司</td>\n",
       "      <td>10000人以上</td>\n",
       "    </tr>\n",
       "    <tr>\n",
       "      <th>364</th>\n",
       "      <td>https://jobs.51job.com/wuhan-hsq/122783391.htm...</td>\n",
       "      <td>产销规划专员/师</td>\n",
       "      <td>0.8-1万/月</td>\n",
       "      <td>天马微电子股份有限公司</td>\n",
       "      <td>武汉</td>\n",
       "      <td>洪山区</td>\n",
       "      <td>[1、负责M+3+9产能规划，确保产能***化利用；, 2、识别M+3+9供需匹配风险，制定...</td>\n",
       "      <td>5、有较好抗压力、应变力和较强的执行力（男生优先）；</td>\n",
       "      <td>[营运主管, 生产计划/物料管理(PMC)]</td>\n",
       "      <td>[]</td>\n",
       "      <td>国企</td>\n",
       "      <td>10000人以上</td>\n",
       "    </tr>\n",
       "    <tr>\n",
       "      <th>384</th>\n",
       "      <td>https://jobs.51job.com/shanghai/78996640.html?...</td>\n",
       "      <td>区域管理专员</td>\n",
       "      <td>6-8千/月</td>\n",
       "      <td>上海旺旺食品集团有限公司</td>\n",
       "      <td>上海</td>\n",
       "      <td>上海</td>\n",
       "      <td>[岗位职责：, 1, 、负责集团实地稽核人员日常任务统筹、安排；与稽核人员沟通对接，完成考勤...</td>\n",
       "      <td>、一年及以上工作经历，有快消行业经验、稽核经验的男生优先；</td>\n",
       "      <td>[业务分析专员/助理, 销售行政专员]</td>\n",
       "      <td>[]</td>\n",
       "      <td>外资（非欧美）</td>\n",
       "      <td>10000人以上</td>\n",
       "    </tr>\n",
       "    <tr>\n",
       "      <th>394</th>\n",
       "      <td>https://jobs.51job.com/shanghai/84906575.html?...</td>\n",
       "      <td>市场秩序追踪</td>\n",
       "      <td>5-8千/月</td>\n",
       "      <td>上海旺旺食品集团有限公司</td>\n",
       "      <td>上海</td>\n",
       "      <td>上海</td>\n",
       "      <td>[岗位职责：, 负责集团实地稽核人员日常任务统筹、安排；与稽核人员沟通对接，完成考勤、绩效管...</td>\n",
       "      <td>、一年及以上工作经历，有快消行业经验、稽核经验的男生优先；</td>\n",
       "      <td>[销售行政专员]</td>\n",
       "      <td>[]</td>\n",
       "      <td>外资（非欧美）</td>\n",
       "      <td>10000人以上</td>\n",
       "    </tr>\n",
       "    <tr>\n",
       "      <th>425</th>\n",
       "      <td>https://jobs.51job.com/nanchang/77192264.html?...</td>\n",
       "      <td>园林施工员</td>\n",
       "      <td>4.5-6千/月</td>\n",
       "      <td>江西中煤建设集团有限公司</td>\n",
       "      <td>南昌</td>\n",
       "      <td>南昌</td>\n",
       "      <td>[本科及以上学历，通过大学英语四级，男生优先；, 要求熟练掌握和使用PTK、全站仪操作，能灵...</td>\n",
       "      <td>本科及以上学历，通过大学英语四级，男生优先；</td>\n",
       "      <td>[园艺/园林/景观设计]</td>\n",
       "      <td>[市政园林施工员]</td>\n",
       "      <td>国企</td>\n",
       "      <td>10000人以上</td>\n",
       "    </tr>\n",
       "    <tr>\n",
       "      <th>426</th>\n",
       "      <td>https://jobs.51job.com/xian-gxjs/121746482.htm...</td>\n",
       "      <td>a校招BD专员/五险一金/周末双休</td>\n",
       "      <td>6-8千/月</td>\n",
       "      <td>陕西贝壳闹海房地产经纪有限公司</td>\n",
       "      <td>西安</td>\n",
       "      <td>高新技术产业开发区</td>\n",
       "      <td>[校园BD-市场拓展 薪资6-8k 学历 统招一本以上  男生优先, 职位描述：, 1、负责...</td>\n",
       "      <td>校园BD-市场拓展 薪资6-8k 学历 统招一本以上  男生优先</td>\n",
       "      <td>[HRBP]</td>\n",
       "      <td>[]</td>\n",
       "      <td>上市公司</td>\n",
       "      <td>10000人以上</td>\n",
       "    </tr>\n",
       "  </tbody>\n",
       "</table>\n",
       "</div>"
      ],
      "text/plain": [
       "                                                   url            job_title  \\\n",
       "106  https://jobs.51job.com/wuxi-yxs/94263880.html?...            市场营销主管/经理   \n",
       "118  https://jobs.51job.com/wuhan/119006620.html?s=...       产品技术员（面板厂测试整合）   \n",
       "253  https://jobs.51job.com/xian-ytq/121745958.html...  E校招专员（贝壳直招+双休+五险一金）   \n",
       "256  https://jobs.51job.com/guangzhou-hdq/123104889...              市场营销实习生   \n",
       "307  https://jobs.51job.com/xian-gxjs/120668741.htm...               商务渠道经理   \n",
       "364  https://jobs.51job.com/wuhan-hsq/122783391.htm...             产销规划专员/师   \n",
       "384  https://jobs.51job.com/shanghai/78996640.html?...               区域管理专员   \n",
       "394  https://jobs.51job.com/shanghai/84906575.html?...               市场秩序追踪   \n",
       "425  https://jobs.51job.com/nanchang/77192264.html?...                园林施工员   \n",
       "426  https://jobs.51job.com/xian-gxjs/121746482.htm...    a校招BD专员/五险一金/周末双休   \n",
       "\n",
       "    salary_range      company_name city   district  \\\n",
       "106     10-15万/年        宜兴华地百货有限公司   无锡        宜兴市   \n",
       "118       4-6千/月       天马微电子股份有限公司   武汉         武汉   \n",
       "253     0.8-1万/月   陕西贝壳闹海房地产经纪有限公司   西安        雁塔区   \n",
       "256       2-3千/月           广州融创文旅城   广州        花都区   \n",
       "307       4-6千/月  吉林万通药业集团药品经销有限公司   西安  高新技术产业开发区   \n",
       "364     0.8-1万/月       天马微电子股份有限公司   武汉        洪山区   \n",
       "384       6-8千/月      上海旺旺食品集团有限公司   上海         上海   \n",
       "394       5-8千/月      上海旺旺食品集团有限公司   上海         上海   \n",
       "425     4.5-6千/月      江西中煤建设集团有限公司   南昌         南昌   \n",
       "426       6-8千/月   陕西贝壳闹海房地产经纪有限公司   西安  高新技术产业开发区   \n",
       "\n",
       "                                       job_description  \\\n",
       "106  [岗位要求：, 1）85年后出生，男生优先；, 2）全日制本科学历及以上，本科院校排名为国内...   \n",
       "118  [1.日常产品缺陷判定，异常反馈，现场产品异常处理, 2.AOI不良判定+点灯机（显示不均、...   \n",
       "253  [校园BD-市场拓展 薪资6-8 学历 统招一本以上  男生优先, 职位描述：, 1、负责目...   \n",
       "256  [工作内容：, 负责协助广州融创文旅城各类市场活动的策划与执行落地, 任职资格：, 大专以上...   \n",
       "307  [岗位职责, 1、中层管销售职位，负责其功能领域内主要目标和计划，制定、参与或协助上层执行相...   \n",
       "364  [1、负责M+3+9产能规划，确保产能***化利用；, 2、识别M+3+9供需匹配风险，制定...   \n",
       "384  [岗位职责：, 1, 、负责集团实地稽核人员日常任务统筹、安排；与稽核人员沟通对接，完成考勤...   \n",
       "394  [岗位职责：, 负责集团实地稽核人员日常任务统筹、安排；与稽核人员沟通对接，完成考勤、绩效管...   \n",
       "425  [本科及以上学历，通过大学英语四级，男生优先；, 要求熟练掌握和使用PTK、全站仪操作，能灵...   \n",
       "426  [校园BD-市场拓展 薪资6-8k 学历 统招一本以上  男生优先, 职位描述：, 1、负责...   \n",
       "\n",
       "               descrimination_content                 job_type  \\\n",
       "106                    1）85年后出生，男生优先；  [市场/营销/拓展主管, 市场企划经理/主管]   \n",
       "118         1.大专及以上学历，能适应倒夜班和无尘室，男生优先                     [技工]   \n",
       "253   校园BD-市场拓展 薪资6-8 学历 统招一本以上  男生优先       [招聘经理/主管, 招聘专员/助理]   \n",
       "256   大专以上学历在校学生，市场营销等相关专业，男生优先，需尽快到岗                   [市场助理]   \n",
       "307                              男生优先                   [销售主管]   \n",
       "364        5、有较好抗压力、应变力和较强的执行力（男生优先）；   [营运主管, 生产计划/物料管理(PMC)]   \n",
       "384     、一年及以上工作经历，有快消行业经验、稽核经验的男生优先；      [业务分析专员/助理, 销售行政专员]   \n",
       "394     、一年及以上工作经历，有快消行业经验、稽核经验的男生优先；                 [销售行政专员]   \n",
       "425            本科及以上学历，通过大学英语四级，男生优先；             [园艺/园林/景观设计]   \n",
       "426  校园BD-市场拓展 薪资6-8k 学历 统招一本以上  男生优先                   [HRBP]   \n",
       "\n",
       "               keywords company_type company_size  \n",
       "106        [高薪, 百货, 服装]         上市公司     10000人以上  \n",
       "118        [PI, 产品异常处理]           国企     10000人以上  \n",
       "253  [招聘专员, 招聘主管, 校招专员]         上市公司     10000人以上  \n",
       "256                  []         上市公司     10000人以上  \n",
       "307        [渠道销售, 直销销售]         民营公司     10000人以上  \n",
       "364                  []           国企     10000人以上  \n",
       "384                  []      外资（非欧美）     10000人以上  \n",
       "394                  []      外资（非欧美）     10000人以上  \n",
       "425           [市政园林施工员]           国企     10000人以上  \n",
       "426                  []         上市公司     10000人以上  "
      ]
     },
     "execution_count": 38,
     "metadata": {},
     "output_type": "execute_result"
    }
   ],
   "source": [
    "wuyi_job_male_df[wuyi_job_male_df[\"company_size\"]==\"10000人以上\"]"
   ]
  },
  {
   "cell_type": "markdown",
   "metadata": {},
   "source": [
    "### todo: Find out those big companies that list discriminated job messages\n",
    "* 上海旺旺食品集团有限公司\n",
    "* 江西中煤建设集团有限公司\n",
    "\n",
    "### todo: find out those \"事业单位\", \"政府机关\", \"国企\" which listed discriminated job messages"
   ]
  },
  {
   "cell_type": "code",
   "execution_count": 46,
   "metadata": {},
   "outputs": [
    {
     "data": {
      "text/html": [
       "<div>\n",
       "<style scoped>\n",
       "    .dataframe tbody tr th:only-of-type {\n",
       "        vertical-align: middle;\n",
       "    }\n",
       "\n",
       "    .dataframe tbody tr th {\n",
       "        vertical-align: top;\n",
       "    }\n",
       "\n",
       "    .dataframe thead th {\n",
       "        text-align: right;\n",
       "    }\n",
       "</style>\n",
       "<table border=\"1\" class=\"dataframe\">\n",
       "  <thead>\n",
       "    <tr style=\"text-align: right;\">\n",
       "      <th></th>\n",
       "      <th>job_type</th>\n",
       "      <th>keywords</th>\n",
       "    </tr>\n",
       "  </thead>\n",
       "  <tbody>\n",
       "    <tr>\n",
       "      <th>0</th>\n",
       "      <td>[环保工程师]</td>\n",
       "      <td>[]</td>\n",
       "    </tr>\n",
       "    <tr>\n",
       "      <th>1</th>\n",
       "      <td>[产品助理]</td>\n",
       "      <td>[亚马逊开发, 开发助理, 产品开发, 供应链维护, 市场调研]</td>\n",
       "    </tr>\n",
       "    <tr>\n",
       "      <th>2</th>\n",
       "      <td>[导游/旅行顾问]</td>\n",
       "      <td>[动物, 包住包住]</td>\n",
       "    </tr>\n",
       "    <tr>\n",
       "      <th>3</th>\n",
       "      <td>[招聘专员/助理, 企业文化/员工关系/工会管理]</td>\n",
       "      <td>[人事, 招聘, 人事专员, 行政, 招聘专员, 人事助理]</td>\n",
       "    </tr>\n",
       "    <tr>\n",
       "      <th>4</th>\n",
       "      <td>[活动运营, 用户运营]</td>\n",
       "      <td>[运营, 活动运营]</td>\n",
       "    </tr>\n",
       "    <tr>\n",
       "      <th>...</th>\n",
       "      <td>...</td>\n",
       "      <td>...</td>\n",
       "    </tr>\n",
       "    <tr>\n",
       "      <th>436</th>\n",
       "      <td>[环保检测, 化工实验室研究员/技术员]</td>\n",
       "      <td>[环境检测, 环境, 环, 保, 实习生, 检测实习生, 水质检验员]</td>\n",
       "    </tr>\n",
       "    <tr>\n",
       "      <th>437</th>\n",
       "      <td>[生物工程/生物制药, 医药技术研发人员]</td>\n",
       "      <td>[]</td>\n",
       "    </tr>\n",
       "    <tr>\n",
       "      <th>438</th>\n",
       "      <td>[仓库管理员, 仓库管理员]</td>\n",
       "      <td>[]</td>\n",
       "    </tr>\n",
       "    <tr>\n",
       "      <th>439</th>\n",
       "      <td>[会计]</td>\n",
       "      <td>[]</td>\n",
       "    </tr>\n",
       "    <tr>\n",
       "      <th>440</th>\n",
       "      <td>[地勤人员]</td>\n",
       "      <td>[地勤]</td>\n",
       "    </tr>\n",
       "  </tbody>\n",
       "</table>\n",
       "<p>441 rows × 2 columns</p>\n",
       "</div>"
      ],
      "text/plain": [
       "                      job_type                             keywords\n",
       "0                      [环保工程师]                                   []\n",
       "1                       [产品助理]     [亚马逊开发, 开发助理, 产品开发, 供应链维护, 市场调研]\n",
       "2                    [导游/旅行顾问]                           [动物, 包住包住]\n",
       "3    [招聘专员/助理, 企业文化/员工关系/工会管理]       [人事, 招聘, 人事专员, 行政, 招聘专员, 人事助理]\n",
       "4                 [活动运营, 用户运营]                           [运营, 活动运营]\n",
       "..                         ...                                  ...\n",
       "436       [环保检测, 化工实验室研究员/技术员]  [环境检测, 环境, 环, 保, 实习生, 检测实习生, 水质检验员]\n",
       "437      [生物工程/生物制药, 医药技术研发人员]                                   []\n",
       "438             [仓库管理员, 仓库管理员]                                   []\n",
       "439                       [会计]                                   []\n",
       "440                     [地勤人员]                                 [地勤]\n",
       "\n",
       "[441 rows x 2 columns]"
      ]
     },
     "execution_count": 46,
     "metadata": {},
     "output_type": "execute_result"
    }
   ],
   "source": [
    "wuyi_job_male_df[['job_type', 'keywords']]"
   ]
  },
  {
   "cell_type": "code",
   "execution_count": 47,
   "metadata": {},
   "outputs": [
    {
     "data": {
      "text/plain": [
       "array(['3-4.5千/月', '4-6千/月', '5-6万/年', '3.5-8千/月', '4.5-6千/月', '6-8千/月',\n",
       "       '0.5-1万/月', '4-5千/月', '1-1.5万/月', '0.8-1.3万/月', '2-3千/月', '5-8千/月',\n",
       "       '5.5-6千/月', '0.9-1万/月', '0.3-1万/月', '4-8千/月', '3.5-5.5千/月',\n",
       "       '5-7.5千/月', '7-20万/年', '5-6.5千/月', '0.6-1万/月', '2.1-3.9千/月',\n",
       "       '5-5千/月', '0.8-1万/月', '5-6千/月', '3-6.5千/月', '3-4千/月', '0.8-1.5万/月',\n",
       "       '3.5-4.5千/月', '0.4-1.2万/月', '3.8-4.5千/月', '8-10万/年', '6-8万/年',\n",
       "       '8-8.5千/月', '5-7千/月', '0.7-1.3万/月', '3.5-5千/月', '6-6.5千/月',\n",
       "       '3-5千/月', '0.4-2万/月', '2.3-2.8千/月', '2.5-3.5千/月', '3.5-4.6千/月',\n",
       "       '3.5-7千/月', '10-15万/年', '5.5-6.5千/月', '0.6-1.2万/月', '3-6千/月', None,\n",
       "       '7-8千/月', '4.5-5.5千/月', '3.5-6千/月', '0.8-1.1万/月', '3.5-4千/月',\n",
       "       '15-20万/年', '1.3-1.5千/月', '0.3-1.2万/月', '4-7千/月', '4.5-5千/月',\n",
       "       '7-9千/月', '2-4千/月', '0.8-2万/月', '4.7-6千/月', '6-9千/月', '4-4.5千/月',\n",
       "       '6-10万/年', '150元/天', '5-5.5千/月', '5.5-7千/月', '4.5-8千/月',\n",
       "       '0.8-1.2万/月', '2.5-4千/月', '120元/天', '0.7-1.2万/月', '4.8-5.5千/月',\n",
       "       '4-5万/年', '0.4-1万/月', '3-7千/月', '3.8-4.3千/月', '6-7千/月', '1.5-2千/月',\n",
       "       '3.2-3.5千/月', '0.2-1万/月', '1-2万/月', '0.9-1.2万/月', '3.2-3.7千/月',\n",
       "       '0.7-1万/月', '100元/天', '1.5-2万/月', '4-9千/月', '9-12万/年', '1-1.1千/月',\n",
       "       '5.5-7万/年'], dtype=object)"
      ]
     },
     "execution_count": 47,
     "metadata": {},
     "output_type": "execute_result"
    }
   ],
   "source": [
    "# data is messy, not in same measurement manner\n",
    "wuyi_job_male_df[\"salary_range\"].unique()"
   ]
  },
  {
   "cell_type": "code",
   "execution_count": 48,
   "metadata": {},
   "outputs": [
    {
     "data": {
      "text/plain": [
       "0                                 3、***男生，有驾驶证（有自己车更好）\n",
       "1                        2、男生优先（公司工厂在中山，有出差需求，优先考虑男生）；\n",
       "2    【要求】：中专及以上学历、18-30周岁；喜爱动物、善于表达沟通、吃苦耐劳；有从事动物美容或...\n",
       "3                                   5、年龄20至25岁之间，男生优先；\n",
       "4              1、一年左右工作经验，也可以接受应届毕业生，全日制大专以上学历，男生优先考虑；\n",
       "5                                            4、男生优先考虑。\n",
       "6                     1.大专或以上学历，1年以上经验，男生优先（产品是男情趣产品）。\n",
       "7                      7.能刻苦耐劳，有强烈的责任心，年龄19岁-29岁的男生优先。\n",
       "8                                    1、全日制中专及以上学历，男生优先\n",
       "9                                      1、男生优先； 1、男生优先；\n",
       "Name: descrimination_content, dtype: object"
      ]
     },
     "execution_count": 48,
     "metadata": {},
     "output_type": "execute_result"
    }
   ],
   "source": [
    "wuyi_job_male_df[\"descrimination_content\"].head(10)"
   ]
  },
  {
   "cell_type": "code",
   "execution_count": 49,
   "metadata": {},
   "outputs": [
    {
     "data": {
      "text/plain": [
       "901"
      ]
     },
     "execution_count": 49,
     "metadata": {},
     "output_type": "execute_result"
    }
   ],
   "source": [
    "## wuyi job female first JD:\n",
    "with open(\"../jd_spider/jd_spider/spiders/output/wuyi_job/wuyi_female_all_contents.json\", 'r') as f:\n",
    "    wuyi_job_female_first = json.load(f)\n",
    "len(wuyi_job_female_first)    "
   ]
  },
  {
   "cell_type": "code",
   "execution_count": 50,
   "metadata": {},
   "outputs": [
    {
     "data": {
      "text/plain": [
       "837"
      ]
     },
     "execution_count": 50,
     "metadata": {},
     "output_type": "execute_result"
    }
   ],
   "source": [
    "wuyi_job_female_first_non_empty = [item for item in wuyi_job_female_first if item[\"descrimination_content\"]]\n",
    "len(wuyi_job_female_first_non_empty)"
   ]
  },
  {
   "cell_type": "code",
   "execution_count": 55,
   "metadata": {},
   "outputs": [],
   "source": [
    "wuyi_job_missed_female = set([item[\"url\"] for item in wuyi_job_female_first]) - set([item[\"url\"] for item in wuyi_job_female_first_non_empty])"
   ]
  },
  {
   "cell_type": "code",
   "execution_count": 56,
   "metadata": {},
   "outputs": [],
   "source": [
    "with open(\"../jd_spider/jd_spider/spiders/wuyi_missed_parsing_urls_female.json\", \"w\") as f:\n",
    "    json.dump([{'url': url} for url in wuyi_job_missed_female], f)"
   ]
  },
  {
   "cell_type": "code",
   "execution_count": 61,
   "metadata": {},
   "outputs": [
    {
     "data": {
      "text/plain": [
       "0                                 3、***男生，有驾驶证（有自己车更好）\n",
       "1                        2、男生优先（公司工厂在中山，有出差需求，优先考虑男生）；\n",
       "2    【要求】：中专及以上学历、18-30周岁；喜爱动物、善于表达沟通、吃苦耐劳；有从事动物美容或...\n",
       "3                                   5、年龄20至25岁之间，男生优先；\n",
       "4              1、一年左右工作经验，也可以接受应届毕业生，全日制大专以上学历，男生优先考虑；\n",
       "Name: descrimination_content, dtype: object"
      ]
     },
     "execution_count": 61,
     "metadata": {},
     "output_type": "execute_result"
    }
   ],
   "source": [
    "wuyi_job_male_df[\"descrimination_content\"].head(5)"
   ]
  },
  {
   "cell_type": "code",
   "execution_count": null,
   "metadata": {},
   "outputs": [],
   "source": []
  },
  {
   "cell_type": "code",
   "execution_count": 66,
   "metadata": {},
   "outputs": [
    {
     "name": "stdout",
     "output_type": "stream",
     "text": [
      "一年|左右|工作|经验|，|也|可以|接受|应届|毕业生|，|全日制|大专|以上学历|，|男生|优先|考虑\n"
     ]
    }
   ],
   "source": [
    "test = \"一年左右工作经验，也可以接受应届毕业生，全日制大专以上学历，男生优先考虑\"\n",
    "print(\"|\".join(jieba.cut(test)))"
   ]
  },
  {
   "cell_type": "code",
   "execution_count": 68,
   "metadata": {},
   "outputs": [
    {
     "name": "stdout",
     "output_type": "stream",
     "text": [
      "一年|左右|工作|经验|，|也|可以|接受|应届|毕业|毕业生|业生|，|全日|全日制|大专|以上|以上学历|上学|学历|，|男生|优先|先考|考虑\n"
     ]
    }
   ],
   "source": [
    "print(\"|\".join(jieba.cut(test, cut_all=True)))"
   ]
  },
  {
   "cell_type": "code",
   "execution_count": 69,
   "metadata": {},
   "outputs": [
    {
     "name": "stdout",
     "output_type": "stream",
     "text": [
      "一年|左右|工作|经验|，|也|可以|接受|应届|毕业|业生|毕业生|，|全日|全日制|大专|以上|上学|学历|以上学历|，|男生|优先|考虑\n"
     ]
    }
   ],
   "source": [
    "print(\"|\".join(jieba.cut_for_search(test)))"
   ]
  },
  {
   "cell_type": "code",
   "execution_count": 135,
   "metadata": {},
   "outputs": [
    {
     "name": "stdout",
     "output_type": "stream",
     "text": [
      "1|.| |男生|优先|，|有|相关|工作|经验|优先\n",
      "5|、| |男生|优先|考虑|。\n",
      "（|1|）|本科|及|以上学历|，|一年|以上|工作|经验|，|有|相关|工作|经验|男生|优先\n",
      "4|、|能|独立|完成|工程|资料|的|整理|。|（|常驻|项目|工地|上|，|男生|优先|。|）\n",
      "1|、|男生|优先|，|3|名|，|22|-|45|岁|。|大专|学历|以上|，|食品科学|与|工程|等|相关|专业|，|为|人|诚实|正直|，|肯|吃苦耐劳|，|愿|从|基层|做起|。|应届|毕业生|亦可|。\n",
      "1|、|大专|以上学历|；|男生|优先|考虑|；|可|接受|应届|毕业生|；\n",
      "3|.|男生|优先|考虑|。\n",
      "1|.|男|*|*|*|都|OK|，|男生|优先\n",
      "1|、|有|材料|现场|跟进|的|男生|优先|考虑|。\n",
      "1|.| |高中|及|以上学历|，|药学|或|相关|专业|、|1| |年|或者|以上|药品|保管|相关|工作|经验|，|男生|优先|考虑|；\n"
     ]
    }
   ],
   "source": [
    "for text in wuyi_job_male_df[\"descrimination_content\"][40:50]:\n",
    "    print(\"|\".join(jieba.cut(text)))"
   ]
  },
  {
   "cell_type": "code",
   "execution_count": 73,
   "metadata": {},
   "outputs": [
    {
     "data": {
      "text/plain": [
       "61"
      ]
     },
     "execution_count": 73,
     "metadata": {},
     "output_type": "execute_result"
    }
   ],
   "source": [
    "with open(\"../jd_spider/jd_spider/spiders/output/wuyi_job/wuyi_missied_female_jd_contents.json\", \"r\") as f:\n",
    "    wuyi_female_missed_jd_contents = json.load(f)\n",
    "\n",
    "len(wuyi_female_missed_jd_contents)"
   ]
  },
  {
   "cell_type": "code",
   "execution_count": 74,
   "metadata": {},
   "outputs": [
    {
     "name": "stdout",
     "output_type": "stream",
     "text": [
      "wuyi_job_female_first_non_empty 837\n",
      "wuyi_female_missed_jd_contents 61\n",
      "wuyi_job_female_first 901\n"
     ]
    }
   ],
   "source": [
    "print(\"wuyi_job_female_first_non_empty\", len(wuyi_job_female_first_non_empty))\n",
    "print(\"wuyi_female_missed_jd_contents\", len(wuyi_female_missed_jd_contents))\n",
    "print(\"wuyi_job_female_first\", len(wuyi_job_female_first))"
   ]
  },
  {
   "cell_type": "code",
   "execution_count": 75,
   "metadata": {},
   "outputs": [],
   "source": [
    "final_wuyi_job_female_first = wuyi_job_female_first_non_empty + wuyi_job_female_first"
   ]
  },
  {
   "cell_type": "code",
   "execution_count": 76,
   "metadata": {},
   "outputs": [],
   "source": [
    "wuyi_job_female_first_df = pd.DataFrame(final_wuyi_job_female_first)"
   ]
  },
  {
   "cell_type": "code",
   "execution_count": 78,
   "metadata": {},
   "outputs": [
    {
     "name": "stdout",
     "output_type": "stream",
     "text": [
      "5|.| |女生|优先\n",
      "1|.|环境|艺术|、|室内设计|专业|，|本科学历|，|年龄|22|-|30|岁|，|女生|优先|;\n",
      "1|、|相关|艺术设计|等|专业|要求|，|女生|优先|，|五官端正|形象|良好\n",
      "女生|优先|考虑|。\n",
      "6.20|-|26|岁|，|女生|优先\n",
      "1|、|大专|以上学历|，| |有|一年|以上|销售|岗位|工作|经验|（|能力|优秀者|可|放宽|条件|）|，|女生|优先|考虑|；\n",
      "1|、|年龄|：|20|-|35|岁|；|学历|不|限|；|女生|优先|考虑|；\n",
      "中诺|恒康|（|口罩|厂|）|，|普工|，|女生|优先|，|18|-|40|岁|，|临时工|（|10|天|结账|）|，|15|元|/|小时|+|午餐|补助|10|元|+|夜班|补贴|10|元|+|住房补贴|10|元|+|晚餐|（|公司|统一|订购|）|，|两班|倒|，|不|穿|无尘|服|，|坐|着|上班|，|无|住宿\n",
      "6|、|有|亲和力|、|沟通|能力|强|、|有过|电商|售后|运营|或者|电子|发票|业务|售后|运营|的|女生|优先|考虑|。\n",
      "1|、|大专|以上学历|，|（|女生|优先|考虑|）|具备|销售|和|电话|网络|能力|优先|考虑|；\n"
     ]
    }
   ],
   "source": [
    "for text in wuyi_job_female_first_df[\"descrimination_content\"].head(10):\n",
    "    print(\"|\".join(jieba.cut(text)))"
   ]
  },
  {
   "cell_type": "code",
   "execution_count": 84,
   "metadata": {},
   "outputs": [
    {
     "data": {
      "text/plain": [
       "0                                    [5, .,  , 女生, 优先]\n",
       "1    [1, ., 环境, 艺术, 、, 室内设计, 专业, ，, 本科学历, ，, 年龄, 22...\n",
       "2    [1, 、, 相关, 艺术设计, 等, 专业, 要求, ，, 女生, 优先, ，, 五官端正...\n",
       "3                                      [女生, 优先, 考虑, 。]\n",
       "4                          [6.20, -, 26, 岁, ，, 女生, 优先]\n",
       "5    [1, 、, 大专, 以上学历, ，,  , 有, 一年, 以上, 销售, 岗位, 工作, ...\n",
       "6    [1, 、, 年龄, ：, 20, -, 35, 岁, ；, 学历, 不, 限, ；, 女生...\n",
       "7    [中诺, 恒康, （, 口罩, 厂, ）, ，, 普工, ，, 女生, 优先, ，, 18,...\n",
       "8    [6, 、, 有, 亲和力, 、, 沟通, 能力, 强, 、, 有过, 电商, 售后, 运营...\n",
       "9    [1, 、, 大专, 以上学历, ，, （, 女生, 优先, 考虑, ）, 具备, 销售, ...\n",
       "Name: descrimination_content, dtype: object"
      ]
     },
     "execution_count": 84,
     "metadata": {},
     "output_type": "execute_result"
    }
   ],
   "source": [
    "wuyi_job_female_first_df[\"descrimination_content\"].head(10).apply(lambda x: list(jieba.cut(x)))"
   ]
  },
  {
   "cell_type": "code",
   "execution_count": 153,
   "metadata": {},
   "outputs": [],
   "source": [
    "punctuation_list = '，。？！：；‘ “（）、'+ string.punctuation\n",
    "ignore_word_list = ['女生', '男生', '女性', '男性', '优先', '考虑', '年龄', '女','男']\n",
    "pos_tag_list = ['n', 'nr','nz','v','vd','vn','a','ad','an']\n",
    "def process_discrimination_words(text):\n",
    "    result = set()\n",
    "    # extract the age out using regex\n",
    "#     low_age_range, high_age_range = find_age(text)\n",
    "#     # extract the outlooking words\n",
    "#     has_outlooking = find_outlooking(text)\n",
    "    \n",
    "    # extract other words\n",
    "#     for w in jieba.cut(text):\n",
    "#     # way one: not number, not punctuation(maybe utf-8), not 女生 男生 女性 男性 优先 考虑, not number.\n",
    "#         if w.strip() and not (w.isnumeric() or w in punctuation_list or w in ignore_word_list):\n",
    "#             if not re.search(\"\\d\", w):  #deal with case containing number bullet point, cant found by isnuemeric\n",
    "#                 result.append(w.strip())\n",
    "    # way two: maybe consider only getting noun and verb? n, nv\n",
    "    for w, flag in pseg.cut(text):\n",
    "        if (flag in pos_tag_list) and (w not in ignore_word_list): \n",
    "            result.add((w,flag))\n",
    "    return result"
   ]
  },
  {
   "cell_type": "code",
   "execution_count": 139,
   "metadata": {},
   "outputs": [],
   "source": [
    "def find_age(text):\n",
    "    if \"岁\" in text:\n",
    "        age_range = re.findall(\"(\\d\\d)\", text)\n",
    "        if len(age_range)==1:\n",
    "            low_age_range, high_age_range = age_range[0], None\n",
    "        elif len(age_range)==2:\n",
    "            low_age_range, high_age_range = age_range\n",
    "        elif len(age_range) > 2:\n",
    "            # may extract the bullet point number out\n",
    "            low_age_range, high_age_range = age_range[-2:]\n",
    "        else:\n",
    "            low_age_range, high_age_range = None, None\n",
    "    else:\n",
    "        age_range = re.findall('\\d\\d后', text) # '95后', '90后', '85后'\n",
    "        if age_range:\n",
    "            try:\n",
    "                high_age_range = datetime.now().year - min([int('19'+re.search(\"(\\d\\d)\", age_text).group(0)) for age_text in age_rage])\n",
    "                low_age_range = None\n",
    "            except:\n",
    "                low_age_range, high_age_range = None, None\n",
    "        else:\n",
    "            low_age_range, high_age_range = None, None\n",
    "    return low_age_range, high_age_range"
   ]
  },
  {
   "cell_type": "code",
   "execution_count": 143,
   "metadata": {},
   "outputs": [],
   "source": [
    "def find_outlooking(text):\n",
    "    \"\"\"\n",
    "    @param text: string\n",
    "    return: boolean\n",
    "    \"\"\"\n",
    "    outlooking_words = [\"五官\", \"端正\", \"形象\", \"样貌\", \"外貌\", \"帅\", \"美\", \"气质\"]\n",
    "    return any([p in text for p in outlooking_words])"
   ]
  },
  {
   "cell_type": "code",
   "execution_count": 154,
   "metadata": {},
   "outputs": [
    {
     "data": {
      "text/plain": [
       "10         {(时尚, n), (有, v), (有趣, a), (喜爱, v), (网感, n)}\n",
       "11                                            {(应届, v)}\n",
       "12                                                   {}\n",
       "13                        {(吴江, nr), (定居, v), (優先, vn)}\n",
       "14                                   {(年龄, n), (大专, n)}\n",
       "15                                                   {}\n",
       "16    {(责任心, n), (强, a), (挣钱, v), (意识, n), (团队, n), ...\n",
       "17    {(出口, vn), (中心, n), (宝安, nr), (宝华, nz), (地铁站, n)}\n",
       "18                                                   {}\n",
       "19                                                   {}\n",
       "Name: descrimination_content, dtype: object"
      ]
     },
     "execution_count": 154,
     "metadata": {},
     "output_type": "execute_result"
    }
   ],
   "source": [
    "wuyi_job_female_first_df[\"descrimination_content\"][10:20].apply(lambda x: process_discrimination_words(x))"
   ]
  },
  {
   "cell_type": "code",
   "execution_count": 148,
   "metadata": {},
   "outputs": [
    {
     "data": {
      "text/plain": [
       "'宝安中心\\xa0 宝华地铁站D出口\\xa0 女生优先'"
      ]
     },
     "execution_count": 148,
     "metadata": {},
     "output_type": "execute_result"
    }
   ],
   "source": [
    "wuyi_job_female_first_df[\"descrimination_content\"][17]"
   ]
  },
  {
   "cell_type": "code",
   "execution_count": 136,
   "metadata": {
    "scrolled": true
   },
   "outputs": [
    {
     "name": "stdout",
     "output_type": "stream",
     "text": [
      "6.20-26岁，女生优先\n",
      "6.20 m\n",
      "- x\n",
      "26 m\n",
      "岁 m\n",
      "， x\n",
      "女生 n\n",
      "优先 vn\n"
     ]
    }
   ],
   "source": [
    "print(wuyi_job_female_first_df[\"descrimination_content\"][4])\n",
    "for word, flag in pseg.cut(wuyi_job_female_first_df[\"descrimination_content\"][4]):\n",
    "    print(word, flag)"
   ]
  },
  {
   "cell_type": "code",
   "execution_count": 80,
   "metadata": {
    "scrolled": true
   },
   "outputs": [
    {
     "data": {
      "text/plain": [
       "民营公司       1386\n",
       "外资（欧美）       91\n",
       "上市公司         78\n",
       "合资           59\n",
       "外资（非欧美）      50\n",
       "创业公司         41\n",
       "国企           25\n",
       "非营利组织         4\n",
       "外企代表处         2\n",
       "事业单位          2\n",
       "Name: company_type, dtype: int64"
      ]
     },
     "execution_count": 80,
     "metadata": {},
     "output_type": "execute_result"
    }
   ],
   "source": [
    "wuyi_job_female_first_df[\"company_type\"].value_counts()"
   ]
  },
  {
   "cell_type": "code",
   "execution_count": 82,
   "metadata": {},
   "outputs": [
    {
     "data": {
      "text/html": [
       "<div>\n",
       "<style scoped>\n",
       "    .dataframe tbody tr th:only-of-type {\n",
       "        vertical-align: middle;\n",
       "    }\n",
       "\n",
       "    .dataframe tbody tr th {\n",
       "        vertical-align: top;\n",
       "    }\n",
       "\n",
       "    .dataframe thead th {\n",
       "        text-align: right;\n",
       "    }\n",
       "</style>\n",
       "<table border=\"1\" class=\"dataframe\">\n",
       "  <thead>\n",
       "    <tr style=\"text-align: right;\">\n",
       "      <th></th>\n",
       "      <th>url</th>\n",
       "      <th>job_title</th>\n",
       "      <th>salary_range</th>\n",
       "      <th>company_name</th>\n",
       "      <th>city</th>\n",
       "      <th>district</th>\n",
       "      <th>job_description</th>\n",
       "      <th>descrimination_content</th>\n",
       "      <th>job_type</th>\n",
       "      <th>keywords</th>\n",
       "      <th>company_type</th>\n",
       "      <th>company_size</th>\n",
       "    </tr>\n",
       "  </thead>\n",
       "  <tbody>\n",
       "    <tr>\n",
       "      <th>447</th>\n",
       "      <td>https://jobs.51job.com/shenzhen-lgq/117939512....</td>\n",
       "      <td>网络销售专员</td>\n",
       "      <td>0.5-2万/月</td>\n",
       "      <td>深圳合众智能科技有限公司</td>\n",
       "      <td>深圳</td>\n",
       "      <td>龙岗区</td>\n",
       "      <td>[岗位要求：, 1.专业不限，高中及以上学历，18-35岁。女生优先，应届生优先录用；, 2...</td>\n",
       "      <td>1.专业不限，高中及以上学历，18-35岁。女生优先，应届生优先录用；</td>\n",
       "      <td>[网络/在线销售]</td>\n",
       "      <td>[销售代表, 在线销售, 客服, 业务员, 电话销售]</td>\n",
       "      <td>事业单位</td>\n",
       "      <td>50-150人</td>\n",
       "    </tr>\n",
       "    <tr>\n",
       "      <th>675</th>\n",
       "      <td>https://jobs.51job.com/shenyang/119017270.html...</td>\n",
       "      <td>平面设计师</td>\n",
       "      <td>3-6千/月</td>\n",
       "      <td>沈阳天爱日化有限公司</td>\n",
       "      <td>沈阳</td>\n",
       "      <td>沈阳</td>\n",
       "      <td>[1、全面了解公司的品牌文化、理念, 及形象, 传播诉求，掌握商品的定位、特性等要素, ，设...</td>\n",
       "      <td>5.女生优先</td>\n",
       "      <td>[平面设计师]</td>\n",
       "      <td>[]</td>\n",
       "      <td>外企代表处</td>\n",
       "      <td>少于50人</td>\n",
       "    </tr>\n",
       "    <tr>\n",
       "      <th>1315</th>\n",
       "      <td>https://jobs.51job.com/shenzhen-lgq/117939512....</td>\n",
       "      <td>网络销售专员</td>\n",
       "      <td>0.5-2万/月</td>\n",
       "      <td>深圳合众智能科技有限公司</td>\n",
       "      <td>深圳</td>\n",
       "      <td>龙岗区</td>\n",
       "      <td>[岗位要求：, 1.专业不限，高中及以上学历，18-35岁。女生优先，应届生优先录用；, 2...</td>\n",
       "      <td>1.专业不限，高中及以上学历，18-35岁。女生优先，应届生优先录用；</td>\n",
       "      <td>[网络/在线销售]</td>\n",
       "      <td>[销售代表, 在线销售, 客服, 业务员, 电话销售]</td>\n",
       "      <td>事业单位</td>\n",
       "      <td>50-150人</td>\n",
       "    </tr>\n",
       "    <tr>\n",
       "      <th>1560</th>\n",
       "      <td>https://jobs.51job.com/shenyang/119017270.html...</td>\n",
       "      <td>平面设计师</td>\n",
       "      <td>3-6千/月</td>\n",
       "      <td>沈阳天爱日化有限公司</td>\n",
       "      <td>沈阳</td>\n",
       "      <td>沈阳</td>\n",
       "      <td>[1、全面了解公司的品牌文化、理念, 及形象, 传播诉求，掌握商品的定位、特性等要素, ，设...</td>\n",
       "      <td>5.女生优先</td>\n",
       "      <td>[平面设计师]</td>\n",
       "      <td>[]</td>\n",
       "      <td>外企代表处</td>\n",
       "      <td>少于50人</td>\n",
       "    </tr>\n",
       "  </tbody>\n",
       "</table>\n",
       "</div>"
      ],
      "text/plain": [
       "                                                    url job_title  \\\n",
       "447   https://jobs.51job.com/shenzhen-lgq/117939512....    网络销售专员   \n",
       "675   https://jobs.51job.com/shenyang/119017270.html...     平面设计师   \n",
       "1315  https://jobs.51job.com/shenzhen-lgq/117939512....    网络销售专员   \n",
       "1560  https://jobs.51job.com/shenyang/119017270.html...     平面设计师   \n",
       "\n",
       "     salary_range  company_name city district  \\\n",
       "447      0.5-2万/月  深圳合众智能科技有限公司   深圳      龙岗区   \n",
       "675        3-6千/月    沈阳天爱日化有限公司   沈阳       沈阳   \n",
       "1315     0.5-2万/月  深圳合众智能科技有限公司   深圳      龙岗区   \n",
       "1560       3-6千/月    沈阳天爱日化有限公司   沈阳       沈阳   \n",
       "\n",
       "                                        job_description  \\\n",
       "447   [岗位要求：, 1.专业不限，高中及以上学历，18-35岁。女生优先，应届生优先录用；, 2...   \n",
       "675   [1、全面了解公司的品牌文化、理念, 及形象, 传播诉求，掌握商品的定位、特性等要素, ，设...   \n",
       "1315  [岗位要求：, 1.专业不限，高中及以上学历，18-35岁。女生优先，应届生优先录用；, 2...   \n",
       "1560  [1、全面了解公司的品牌文化、理念, 及形象, 传播诉求，掌握商品的定位、特性等要素, ，设...   \n",
       "\n",
       "                   descrimination_content   job_type  \\\n",
       "447   1.专业不限，高中及以上学历，18-35岁。女生优先，应届生优先录用；  [网络/在线销售]   \n",
       "675                                5.女生优先    [平面设计师]   \n",
       "1315  1.专业不限，高中及以上学历，18-35岁。女生优先，应届生优先录用；  [网络/在线销售]   \n",
       "1560                               5.女生优先    [平面设计师]   \n",
       "\n",
       "                         keywords company_type company_size  \n",
       "447   [销售代表, 在线销售, 客服, 业务员, 电话销售]         事业单位      50-150人  \n",
       "675                            []        外企代表处        少于50人  \n",
       "1315  [销售代表, 在线销售, 客服, 业务员, 电话销售]         事业单位      50-150人  \n",
       "1560                           []        外企代表处        少于50人  "
      ]
     },
     "execution_count": 82,
     "metadata": {},
     "output_type": "execute_result"
    }
   ],
   "source": [
    "wuyi_job_female_first_df[wuyi_job_female_first_df[\"company_type\"].isin([\"外企代表处\", \"事业单位\"])]"
   ]
  }
 ],
 "metadata": {
  "kernelspec": {
   "display_name": "jd_spider_kernel",
   "language": "python",
   "name": "jd_spider_kernel"
  },
  "language_info": {
   "codemirror_mode": {
    "name": "ipython",
    "version": 3
   },
   "file_extension": ".py",
   "mimetype": "text/x-python",
   "name": "python",
   "nbconvert_exporter": "python",
   "pygments_lexer": "ipython3",
   "version": "3.8.2"
  }
 },
 "nbformat": 4,
 "nbformat_minor": 4
}
